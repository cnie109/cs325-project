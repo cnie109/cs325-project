{
 "cells": [
  {
   "cell_type": "code",
   "execution_count": 9,
   "metadata": {},
   "outputs": [
    {
     "name": "stderr",
     "output_type": "stream",
     "text": [
      "C:\\Users\\Owner\\AppData\\Local\\Temp\\ipykernel_76856\\1820183475.py:17: DeprecationWarning: Python 3.14 will, by default, filter extracted tar archives and reject files or modify their metadata. Use the filter argument to control this behavior.\n",
      "  file.extractall(\".\")\n"
     ]
    }
   ],
   "source": [
    "\"\"\"\n",
    "Run once ever\n",
    "\n",
    "Downloads and extracts the dataset\n",
    "\"\"\"\n",
    "\n",
    "\n",
    "import urllib.request\n",
    "import tarfile\n",
    "import os\n",
    "\n",
    "mp3file = urllib.request.urlopen(\"https://www.cs.toronto.edu/~kriz/cifar-100-python.tar.gz\")\n",
    "with open('tmp','wb') as output:\n",
    "  output.write(mp3file.read())\n",
    "\n",
    "file = tarfile.open(\"tmp\")\n",
    "file.extractall(\".\")\n",
    "file.close()\n",
    "os.remove(\"tmp\")\n",
    "os.remove(\"cifar-100-python/file.txt~\")"
   ]
  },
  {
   "cell_type": "code",
   "execution_count": 10,
   "metadata": {},
   "outputs": [],
   "source": [
    "\"\"\"\n",
    "Imports\n",
    "\"\"\"\n",
    "\n",
    "import pandas as pd\n",
    "import matplotlib.pyplot as plt\n",
    "import threading\n",
    "from sklearn.preprocessing import StandardScaler\n",
    "from sklearn.neighbors import KNeighborsRegressor\n",
    "from sklearn.tree import DecisionTreeClassifier, plot_tree\n",
    "from sklearn.ensemble import RandomForestClassifier\n",
    "from sklearn.metrics import r2_score, mean_squared_error, zero_one_loss"
   ]
  },
  {
   "cell_type": "code",
   "execution_count": 11,
   "metadata": {},
   "outputs": [],
   "source": [
    "\"\"\"\n",
    "load the dataset into memory\n",
    "\"\"\"\n",
    "\n",
    "# labels = \"coarse\"\n",
    "labels = \"fine\"\n",
    "\n",
    "# read in the training data\n",
    "tmp = pd.read_pickle(\"./cifar-100-python/train\")\n",
    "tmp.pop(\"batch_label\")\n",
    "tmp.pop(\"filenames\")\n",
    "d = tmp.pop(\"data\")\n",
    "\n",
    "data = pd.DataFrame.from_dict(tmp)\n",
    "d = pd.DataFrame(d)\n",
    "data = pd.concat([data, d], axis=1)\n",
    "\n",
    "X_train = data[(x for x in range(3072))]\n",
    "y_train = data[labels + \"_labels\"]\n",
    "\n",
    "\n",
    "# read in the testing data\n",
    "tmp = pd.read_pickle(\"./cifar-100-python/test\")\n",
    "tmp.pop(\"batch_label\")\n",
    "tmp.pop(\"filenames\")\n",
    "d = tmp.pop(\"data\")\n",
    "\n",
    "data = pd.DataFrame.from_dict(tmp)\n",
    "d = pd.DataFrame(d)\n",
    "data = pd.concat([data, d], axis=1)\n",
    "\n",
    "X_test = data[(x for x in range(3072))]\n",
    "y_test = data[labels + \"_labels\"]\n",
    "\n",
    "label_names = pd.read_pickle(\"./cifar-100-python/meta\")[labels + \"_label_names\"]"
   ]
  },
  {
   "cell_type": "code",
   "execution_count": 6,
   "metadata": {},
   "outputs": [
    {
     "name": "stdout",
     "output_type": "stream",
     "text": [
      "Neighbors: 1, R2: -0.547445304530453\n",
      "Neighbors: 5, R2: -0.040033872187218655\n",
      "Neighbors: 10, R2: 0.01389046264626459\n",
      "Neighbors: 15, R2: 0.029376024002400247\n",
      "Neighbors: 25, R2: 0.04373827686768683\n",
      "Neighbors: 33, R2: 0.04497737024391146\n",
      "Neighbors: 50, R2: 0.04431375371137092\n"
     ]
    }
   ],
   "source": [
    "\"\"\"\n",
    "K-nearest\n",
    "\n",
    "Achieved slightly better than random (7% accuracy on coarse labels, 1.28% accuracy on fine labels)\n",
    "\"\"\"\n",
    "\n",
    "scalar = StandardScaler()\n",
    "\n",
    "X_train_scaled = scalar.fit_transform(X_train)\n",
    "X_test_scaled = scalar.fit_transform(X_test)\n",
    "\n",
    "# Train KNN\n",
    "\n",
    "neighbors_list = [1,5,10,15,25,33,50]\n",
    "# knn = KNeighborsRegressor(n_neighbors=150)\n",
    "# knn.fit(X_train_scaled, y_train)\n",
    "best_neighbors = 0\n",
    "best_r2 = 0\n",
    "for i in neighbors_list:\n",
    "    knn = KNeighborsRegressor(n_neighbors=i)\n",
    "    knn.fit(X_train_scaled, y_train)\n",
    "\n",
    "    y_pred = knn.predict(X_test_scaled)\n",
    "\n",
    "    r2 = r2_score(y_test, y_pred)\n",
    "    print(f\"Neighbors: {i}, R2: {r2}\")\n",
    "    if r2 > best_r2:\n",
    "        best_neighbors = i\n",
    "        best_r2 = r2"
   ]
  },
  {
   "cell_type": "code",
   "execution_count": 7,
   "metadata": {},
   "outputs": [
    {
     "name": "stdout",
     "output_type": "stream",
     "text": [
      "mse: 795.7726062442608\n",
      "Accuracy:  0.0128\n"
     ]
    }
   ],
   "source": [
    "# Test KNN\n",
    "\n",
    "knn = KNeighborsRegressor(n_neighbors=best_neighbors)\n",
    "knn.fit(X_train_scaled, y_train)\n",
    "\n",
    "y_pred = knn.predict(X_test_scaled)\n",
    "\n",
    "# r2 = r2_score(y_test, y_pred)\n",
    "# print(\"R2 score:\", r2)\n",
    "mse = mean_squared_error(y_test, y_pred)\n",
    "print(f\"mse: {mse}\")\n",
    "y_pred = y_pred.round()\n",
    "\n",
    "correct = 0\n",
    "for i in range(len(y_pred)):\n",
    "    if(y_pred[i] == y_test[i]):\n",
    "        correct += 1\n",
    "print(\"Accuracy: \", correct/len(y_pred))\n",
    "\n",
    "# print(y_pred)"
   ]
  },
  {
   "cell_type": "code",
   "execution_count": 8,
   "metadata": {},
   "outputs": [
    {
     "data": {
      "text/plain": [
       "'\\nLogistic Regression\\n'"
      ]
     },
     "execution_count": 8,
     "metadata": {},
     "output_type": "execute_result"
    }
   ],
   "source": [
    "\"\"\"\n",
    "Logistic Regression\n",
    "\"\"\""
   ]
  },
  {
   "cell_type": "code",
   "execution_count": 9,
   "metadata": {},
   "outputs": [
    {
     "name": "stdout",
     "output_type": "stream",
     "text": [
      "Depth: 14\n"
     ]
    }
   ],
   "source": [
    "\"\"\"\n",
    "Basic Decision Tree\n",
    "\n",
    "Did much better than KNN\n",
    "achieving 17.17% accuracy with depth of 52 on coarse labels\n",
    "          8.41% accuracy with depth of 103 on fine labels\n",
    "    That was without a depth limit\n",
    "    With depth limiting, achieved:\n",
    "        19.27% with depth of 9 on coarse labels\n",
    "         9.15% with depth of 14 on fine labels\n",
    "None of these values will be exactly replicatable because of some randomness in the training process, and I did not use a set seed to get these\n",
    "\"\"\"\n",
    "\n",
    "tree = DecisionTreeClassifier(max_depth=(9 if labels == \"coarse\" else 14))\n",
    "_ = tree.fit(X_train, y_train)\n",
    "print(f\"Depth: {tree.get_depth()}\")"
   ]
  },
  {
   "cell_type": "code",
   "execution_count": 10,
   "metadata": {},
   "outputs": [
    {
     "name": "stdout",
     "output_type": "stream",
     "text": [
      "Depth: 1,             mse: 926.596,             r2: -0.11202640264026398,             accuracy: 0.017199999999999993\n",
      "Depth: 2,             mse: 1382.4003,             r2: -0.6590462646264625,             accuracy: 0.027699999999999947\n",
      "Depth: 3,             mse: 1858.6179,             r2: -1.2305645364536453,             accuracy: 0.042200000000000015\n",
      "Depth: 4,             mse: 1982.0481,             r2: -1.3786955895589559,             accuracy: 0.05030000000000001\n",
      "Depth: 5,             mse: 2146.6318,             r2: -1.5762157815781577,             accuracy: 0.06259999999999999\n",
      "Depth: 6,             mse: 1661.3088,             r2: -0.9937699369936994,             accuracy: 0.0675\n",
      "Depth: 7,             mse: 1546.5719,             r2: -0.856071887188719,             accuracy: 0.07569999999999999\n",
      "Depth: 8,             mse: 1549.2119,             r2: -0.8592402040204021,             accuracy: 0.08340000000000003\n",
      "Depth: 9,             mse: 1559.3482,             r2: -0.8714049804980497,             accuracy: 0.08899999999999997\n",
      "Depth: 10,             mse: 1583.0078,             r2: -0.8997993399339934,             accuracy: 0.08889999999999998\n",
      "Depth: 11,             mse: 1538.7268,             r2: -0.8466568256825682,             accuracy: 0.08909999999999996\n",
      "Depth: 12,             mse: 1599.0529,             r2: -0.9190553855385539,             accuracy: 0.09030000000000005\n",
      "Depth: 13,             mse: 1506.0423,             r2: -0.807431503150315,             accuracy: 0.09099999999999997\n",
      "Depth: 14,             mse: 1505.3733,             r2: -0.8066286228622863,             accuracy: 0.09020000000000006\n",
      "Depth: 15,             mse: 1475.1389,             r2: -0.7703437143714371,             accuracy: 0.09099999999999997\n",
      "Depth: 16,             mse: 1496.6971,             r2: -0.7962161416141613,             accuracy: 0.09150000000000003\n",
      "Depth: 17,             mse: 1541.532,             r2: -0.850023402340234,             accuracy: 0.08750000000000002\n",
      "Depth: 18,             mse: 1567.1658,             r2: -0.8807870387038703,             accuracy: 0.08919999999999995\n",
      "Depth: 19,             mse: 1553.8807,             r2: -0.8648433243324332,             accuracy: 0.08640000000000003\n",
      "Depth: 20,             mse: 1571.462,             r2: -0.8859429942994299,             accuracy: 0.08499999999999996\n",
      "Depth: 21,             mse: 1548.1109,             r2: -0.8579188718871886,             accuracy: 0.08640000000000003\n",
      "Depth: 23,             mse: 1602.0421,             r2: -0.9226427842784279,             accuracy: 0.08540000000000003\n",
      "Depth: 22,             mse: 1595.2633,             r2: -0.914507410741074,             accuracy: 0.08460000000000001\n",
      "Depth: 25,             mse: 1575.7623,             r2: -0.8911038703870386,             accuracy: 0.08719999999999994\n",
      "Depth: 24,             mse: 1602.0733,             r2: -0.9226802280228024,             accuracy: 0.08989999999999998\n",
      "Depth: 27,             mse: 1547.1773,             r2: -0.8567984398439843,             accuracy: 0.0867\n",
      "Depth: 26,             mse: 1579.4261,             r2: -0.8955008700870086,             accuracy: 0.08530000000000004\n",
      "Depth: 28,             mse: 1558.5324,             r2: -0.8704259225922593,             accuracy: 0.0867\n",
      "Depth: 29,             mse: 1570.6894,             r2: -0.8850157815781579,             accuracy: 0.08519999999999994\n",
      "Depth: 30,             mse: 1603.6381,             r2: -0.9245581758175818,             accuracy: 0.08179999999999998\n",
      "Depth: 31,             mse: 1594.8477,             r2: -0.9140086408640864,             accuracy: 0.08589999999999998\n",
      "Depth: 32,             mse: 1581.2256,             r2: -0.8976604860486048,             accuracy: 0.08360000000000001\n",
      "Depth: 34,             mse: 1542.8599,             r2: -0.8516170417041704,             accuracy: 0.08499999999999996\n",
      "Depth: 33,             mse: 1581.5742,             r2: -0.8980788478847885,             accuracy: 0.08750000000000002\n",
      "Depth: 36,             mse: 1555.9994,             r2: -0.8673860186018603,             accuracy: 0.08530000000000004\n",
      "Depth: 35,             mse: 1598.0805,             r2: -0.9178883888388838,             accuracy: 0.08519999999999994\n",
      "Depth: 39,             mse: 1566.4863,             r2: -0.8799715571557156,             accuracy: 0.08509999999999995\n",
      "Depth: 37,             mse: 1543.0625,             r2: -0.8518601860186019,             accuracy: 0.08550000000000002\n",
      "Depth: 38,             mse: 1550.2636,             r2: -0.8605023702370238,             accuracy: 0.08479999999999999\n",
      "Depth: 41,             mse: 1573.0554,             r2: -0.8878552655265526,             accuracy: 0.08630000000000004\n",
      "Depth: 40,             mse: 1592.7129,             r2: -0.9114466246624662,             accuracy: 0.08130000000000004\n",
      "Depth: 42,             mse: 1579.6487,             r2: -0.8957680168016802,             accuracy: 0.08499999999999996\n",
      "Depth: 43,             mse: 1556.498,             r2: -0.8679843984398439,             accuracy: 0.08640000000000003\n",
      "Depth: 45,             mse: 1548.4801,             r2: -0.8583619561956195,             accuracy: 0.08730000000000004\n",
      "Depth: 44,             mse: 1558.211,             r2: -0.870040204020402,             accuracy: 0.08450000000000002\n",
      "Depth: 46,             mse: 1601.5593,             r2: -0.9220633663366338,             accuracy: 0.08430000000000004\n",
      "Depth: 47,             mse: 1591.2245,             r2: -0.9096603660366036,             accuracy: 0.08719999999999994\n",
      "Depth: 48,             mse: 1532.1887,             r2: -0.8388103210321032,             accuracy: 0.08560000000000001\n",
      "Depth: 52,             mse: 1553.0465,             r2: -0.8638421842184218,             accuracy: 0.08630000000000004\n",
      "Depth: 49,             mse: 1578.8478,             r2: -0.8948068406840683,             accuracy: 0.08199999999999996\n",
      "Depth: 51,             mse: 1558.1849,             r2: -0.8700088808880888,             accuracy: 0.08450000000000002\n",
      "Depth: 50,             mse: 1539.4641,             r2: -0.8475416741674167,             accuracy: 0.08399999999999996\n",
      "Depth: 53,             mse: 1577.2557,             r2: -0.8928961296129614,             accuracy: 0.08409999999999995\n",
      "Depth: 54,             mse: 1547.7168,             r2: -0.857445904590459,             accuracy: 0.08620000000000005\n"
     ]
    }
   ],
   "source": [
    "# Try a bunch of tree depths to see when overfitting starts\n",
    "depths = [x for x in range(1,55)]\n",
    "\n",
    "def train_tree(depth: int):\n",
    "    tree = DecisionTreeClassifier(max_depth=depth)\n",
    "    _ = tree.fit(X_train, y_train)\n",
    "    # compute metrics\n",
    "    y_pred = tree.predict(X_test)\n",
    "    print(f\"Depth: {depth}, \\\n",
    "            mse: {mean_squared_error(y_test, y_pred)}, \\\n",
    "            r2: {r2_score(y_test, y_pred)}, \\\n",
    "            accuracy: {1 - zero_one_loss(y_test, y_pred)}\")\n",
    "\n",
    "threads = []\n",
    "for i in depths:\n",
    "    threads.append(threading.Thread(target=train_tree, args=(i,)))\n",
    "    threads[len(threads) - 1].start()\n",
    "    # limit to 10 threads being used\n",
    "    # adjust to fit your computer\n",
    "    if len(threads) > 10:\n",
    "        threads[0].join()\n",
    "        threads.pop(0)\n",
    "for thread in threads:\n",
    "    thread.join()"
   ]
  },
  {
   "cell_type": "code",
   "execution_count": 11,
   "metadata": {},
   "outputs": [
    {
     "name": "stdout",
     "output_type": "stream",
     "text": [
      "R2 score: -0.8286057005700571\n",
      "mse: 1523.6857\n",
      "Accuracy: 0.092\n"
     ]
    }
   ],
   "source": [
    "# Test decision tree\n",
    "y_pred = tree.predict(X_test)\n",
    "\n",
    "r2 = r2_score(y_test, y_pred)\n",
    "print(\"R2 score:\", r2)\n",
    "mse = mean_squared_error(y_test, y_pred)\n",
    "print(f\"mse: {mse}\")\n",
    "\n",
    "print(\"Accuracy:\", tree.score(X_test, y_test))"
   ]
  },
  {
   "cell_type": "code",
   "execution_count": 36,
   "metadata": {},
   "outputs": [
    {
     "name": "stdout",
     "output_type": "stream",
     "text": [
      "Best number of estimators: 250\n",
      "Best max depth: 2\n",
      "Accuracy: 0.037\n"
     ]
    },
    {
     "data": {
      "text/plain": [
       "'Feature Importance evaluation is buggy\\n#Prepare for feature importance\\nforest_importances = forest.feature_importances_\\nfeature_importances_df = pd.DataFrame({\"Feature\": feature_names, \"Importance\": forest_importances})\\n\\n# Sort by importance\\nfeature_importances_df = feature_importances_df.sort_values(by = \"Importance\", ascending = False)\\n\\n# Plot the feature importances\\nplt.figure(figsize=(10, 6))\\nplt.barh(feature_importances_df[\"Feature\"], feature_importances_df[\"Importance\"], color = \"skyblue\")\\nplt.xlabel(\"Importance\")\\nplt.ylabel(\"Feature\")\\nplt.title(\"Random Forest Feature Importances\")\\nplt.gca().invert_yaxis()  # Invert y-axis to show most important features at the top\\nplt.show()\\n'"
      ]
     },
     "execution_count": 36,
     "metadata": {},
     "output_type": "execute_result"
    }
   ],
   "source": [
    "\"\"\"\n",
    "Random Forest\n",
    "\n",
    "\"\"\"\n",
    "n_classifier_array = [5, 25, 50, 100, 250, 500, 1000]\n",
    "depth_array = [1, 2, 3, 4, 5, 6, 7, 8, 9, 10]\n",
    "best_n = 0\n",
    "best_d = 0\n",
    "best_acc = 0\n",
    "\n",
    "\"\"\"for n in n_classifier_array:\n",
    "    for d in depth_array:\n",
    "        \n",
    "        #Prepare random forest\n",
    "        forest = RandomForestClassifier(n_estimators = n, max_depth = d, random_state = 42)\n",
    "        forest.fit(X_train, y_train)\n",
    "        y_pred = forest.predict(X_test)\n",
    "        accuracy = forest.score(X_test, y_test)\n",
    "        if accuracy > best_acc:\n",
    "            best_n = n\n",
    "            best_d = d\n",
    "            best_acc = accuracy\n",
    "\n",
    "\n",
    "\"\"\"\n",
    "#Hard-code solution (for individual testing)\n",
    "best_n = 250\n",
    "best_d = 2\n",
    "\n",
    "#Retain with best n and d\n",
    "forest = RandomForestClassifier(n_estimators = best_n, max_depth = best_d, random_state = 42)\n",
    "forest.fit(X_train, y_train)\n",
    "y_pred = forest.predict(X_test)\n",
    "accuracy = forest.score(X_test, y_test)\n",
    "\n",
    "#Print metrics\n",
    "print(f\"Best number of estimators: {best_n}\")\n",
    "print(f\"Best max depth: {best_d}\")\n",
    "print(f\"Accuracy: {accuracy:.3f}\")\n",
    "\n",
    "\n",
    "\"\"\"Feature Importance evaluation is buggy\n",
    "#Prepare for feature importance\n",
    "forest_importances = forest.feature_importances_\n",
    "feature_importances_df = pd.DataFrame({\"Feature\": feature_names, \"Importance\": forest_importances})\n",
    "\n",
    "# Sort by importance\n",
    "feature_importances_df = feature_importances_df.sort_values(by = \"Importance\", ascending = False)\n",
    "\n",
    "# Plot the feature importances\n",
    "plt.figure(figsize=(10, 6))\n",
    "plt.barh(feature_importances_df[\"Feature\"], feature_importances_df[\"Importance\"], color = \"skyblue\")\n",
    "plt.xlabel(\"Importance\")\n",
    "plt.ylabel(\"Feature\")\n",
    "plt.title(\"Random Forest Feature Importances\")\n",
    "plt.gca().invert_yaxis()  # Invert y-axis to show most important features at the top\n",
    "plt.show()\n",
    "\"\"\""
   ]
  },
  {
   "cell_type": "code",
   "execution_count": null,
   "metadata": {},
   "outputs": [],
   "source": [
    "\"\"\"\n",
    "AdaBoost and XGBoost\n",
    "\"\"\""
   ]
  }
 ],
 "metadata": {
  "kernelspec": {
   "display_name": ".venv",
   "language": "python",
   "name": "python3"
  },
  "language_info": {
   "codemirror_mode": {
    "name": "ipython",
    "version": 3
   },
   "file_extension": ".py",
   "mimetype": "text/x-python",
   "name": "python",
   "nbconvert_exporter": "python",
   "pygments_lexer": "ipython3",
   "version": "3.11.2"
  }
 },
 "nbformat": 4,
 "nbformat_minor": 4
}
