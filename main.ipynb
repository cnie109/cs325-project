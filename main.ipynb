{
 "cells": [
  {
   "cell_type": "code",
   "execution_count": 66,
   "metadata": {},
   "outputs": [],
   "source": [
    "\"\"\"\n",
    "Run once ever\n",
    "\n",
    "Downloads and extracts the dataset\n",
    "\"\"\"\n",
    "\n",
    "\n",
    "import urllib.request\n",
    "import tarfile\n",
    "import os\n",
    "\n",
    "mp3file = urllib.request.urlopen(\"https://www.cs.toronto.edu/~kriz/cifar-100-python.tar.gz\")\n",
    "with open('tmp','wb') as output:\n",
    "  output.write(mp3file.read())\n",
    "\n",
    "file = tarfile.open(\"tmp\")\n",
    "file.extractall(\".\")\n",
    "file.close()\n",
    "os.remove(\"tmp\")\n",
    "os.remove(\"cifar-100-python/file.txt~\")"
   ]
  },
  {
   "cell_type": "code",
   "execution_count": 2,
   "metadata": {},
   "outputs": [],
   "source": [
    "\"\"\"\n",
    "Imports\n",
    "\"\"\"\n",
    "\n",
    "import pandas as pd\n",
    "import matplotlib.pyplot as plt\n",
    "import threading\n",
    "from sklearn.preprocessing import StandardScaler\n",
    "from sklearn.neighbors import KNeighborsRegressor\n",
    "from sklearn.tree import DecisionTreeClassifier, plot_tree\n",
    "from sklearn.metrics import r2_score, mean_squared_error, zero_one_loss"
   ]
  },
  {
   "cell_type": "code",
   "execution_count": 4,
   "metadata": {},
   "outputs": [],
   "source": [
    "\"\"\"\n",
    "load the dataset into memory\n",
    "\"\"\"\n",
    "\n",
    "# labels = \"coarse\"\n",
    "labels = \"fine\"\n",
    "\n",
    "# read in the training data\n",
    "tmp = pd.read_pickle(\"./cifar-100-python/train\")\n",
    "tmp.pop(\"batch_label\")\n",
    "tmp.pop(\"filenames\")\n",
    "d = tmp.pop(\"data\")\n",
    "\n",
    "data = pd.DataFrame.from_dict(tmp)\n",
    "d = pd.DataFrame(d)\n",
    "data = pd.concat([data, d], axis=1)\n",
    "\n",
    "X_train = data[(x for x in range(3072))]\n",
    "y_train = data[labels + \"_labels\"]\n",
    "\n",
    "\n",
    "# read in the testing data\n",
    "tmp = pd.read_pickle(\"./cifar-100-python/test\")\n",
    "tmp.pop(\"batch_label\")\n",
    "tmp.pop(\"filenames\")\n",
    "d = tmp.pop(\"data\")\n",
    "\n",
    "data = pd.DataFrame.from_dict(tmp)\n",
    "d = pd.DataFrame(d)\n",
    "data = pd.concat([data, d], axis=1)\n",
    "\n",
    "X_test = data[(x for x in range(3072))]\n",
    "y_test = data[labels + \"_labels\"]\n",
    "\n",
    "label_names = pd.read_pickle(\"./cifar-100-python/meta\")[labels + \"_label_names\"]"
   ]
  },
  {
   "cell_type": "code",
   "execution_count": null,
   "metadata": {},
   "outputs": [
    {
     "name": "stdout",
     "output_type": "stream",
     "text": [
      "Neighbors: 1, R2: -0.547445304530453\n",
      "Neighbors: 5, R2: -0.040033872187218655\n",
      "Neighbors: 10, R2: 0.01389046264626459\n",
      "Neighbors: 15, R2: 0.029376024002400247\n",
      "Neighbors: 25, R2: 0.04373827686768683\n",
      "Neighbors: 33, R2: 0.04497737024391146\n",
      "Neighbors: 50, R2: 0.04431375371137092\n"
     ]
    }
   ],
   "source": [
    "\"\"\"\n",
    "K-nearest\n",
    "\n",
    "Achieved slightly better than random (7% accuracy on coarse labels, 1.28% accuracy on fine labels)\n",
    "\"\"\"\n",
    "\n",
    "scalar = StandardScaler()\n",
    "\n",
    "X_train_scaled = scalar.fit_transform(X_train)\n",
    "X_test_scaled = scalar.fit_transform(X_test)\n",
    "\n",
    "# Train KNN\n",
    "\n",
    "neighbors_list = [1,5,10,15,25,33,50]\n",
    "# knn = KNeighborsRegressor(n_neighbors=150)\n",
    "# knn.fit(X_train_scaled, y_train)\n",
    "best_neighbors = 0\n",
    "best_r2 = 0\n",
    "for i in neighbors_list:\n",
    "    knn = KNeighborsRegressor(n_neighbors=i)\n",
    "    knn.fit(X_train_scaled, y_train)\n",
    "\n",
    "    y_pred = knn.predict(X_test_scaled)\n",
    "\n",
    "    r2 = r2_score(y_test, y_pred)\n",
    "    print(f\"Neighbors: {i}, R2: {r2}\")\n",
    "    if r2 > best_r2:\n",
    "        best_neighbors = i\n",
    "        best_r2 = r2"
   ]
  },
  {
   "cell_type": "code",
   "execution_count": 16,
   "metadata": {},
   "outputs": [
    {
     "name": "stdout",
     "output_type": "stream",
     "text": [
      "mse: 795.7726062442608\n",
      "Accuracy:  0.0128\n"
     ]
    }
   ],
   "source": [
    "# Test KNN\n",
    "\n",
    "knn = KNeighborsRegressor(n_neighbors=best_neighbors)\n",
    "knn.fit(X_train_scaled, y_train)\n",
    "\n",
    "y_pred = knn.predict(X_test_scaled)\n",
    "\n",
    "# r2 = r2_score(y_test, y_pred)\n",
    "# print(\"R2 score:\", r2)\n",
    "mse = mean_squared_error(y_test, y_pred)\n",
    "print(f\"mse: {mse}\")\n",
    "y_pred = y_pred.round()\n",
    "\n",
    "correct = 0\n",
    "for i in range(len(y_pred)):\n",
    "    if(y_pred[i] == y_test[i]):\n",
    "        correct += 1\n",
    "print(\"Accuracy: \", correct/len(y_pred))\n",
    "\n",
    "# print(y_pred)"
   ]
  },
  {
   "cell_type": "code",
   "execution_count": null,
   "metadata": {},
   "outputs": [],
   "source": [
    "\"\"\"\n",
    "Logistic Regression\n",
    "\"\"\""
   ]
  },
  {
   "cell_type": "code",
   "execution_count": 6,
   "metadata": {},
   "outputs": [
    {
     "name": "stdout",
     "output_type": "stream",
     "text": [
      "Depth: 14\n"
     ]
    }
   ],
   "source": [
    "\"\"\"\n",
    "Basic Decision Tree\n",
    "\n",
    "Did much better than KNN\n",
    "achieving 17.17% accuracy with depth of 52 on coarse labels\n",
    "          8.41% accuracy with depth of 103 on fine labels\n",
    "    That was without a depth limit\n",
    "    With depth limiting, achieved:\n",
    "        19.27% with depth of 9 on coarse labels\n",
    "         9.15% with depth of 14 on fine labels\n",
    "None of these values will be exactly replicatable because of some randomness in the training process, and I did not use a set seed to get these\n",
    "\"\"\"\n",
    "\n",
    "tree = DecisionTreeClassifier(max_depth=(9 if labels == \"coarse\" else 14))\n",
    "_ = tree.fit(X_train, y_train)\n",
    "print(f\"Depth: {tree.get_depth()}\")"
   ]
  },
  {
   "cell_type": "code",
   "execution_count": null,
   "metadata": {},
   "outputs": [
    {
     "name": "stdout",
     "output_type": "stream",
     "text": [
      "Depth: 1,             mse: 926.596,             r2: -0.11202640264026398,             accuracy: 0.017199999999999993\n",
      "Depth: 2,             mse: 1382.4003,             r2: -0.6590462646264625,             accuracy: 0.027699999999999947\n",
      "Depth: 3,             mse: 1858.6179,             r2: -1.2305645364536453,             accuracy: 0.042200000000000015\n",
      "Depth: 4,             mse: 1982.0481,             r2: -1.3786955895589559,             accuracy: 0.05030000000000001\n",
      "Depth: 5,             mse: 2146.6318,             r2: -1.5762157815781577,             accuracy: 0.06259999999999999\n",
      "Depth: 7,             mse: 1546.5172,             r2: -0.8560062406240625,             accuracy: 0.07569999999999999\n",
      "Depth: 6,             mse: 1661.3088,             r2: -0.9937699369936994,             accuracy: 0.0675\n",
      "Depth: 8,             mse: 1548.2971,             r2: -0.8581423342334233,             accuracy: 0.08340000000000003\n",
      "Depth: 10,             mse: 1582.8053,             r2: -0.8995563156315631,             accuracy: 0.08999999999999997\n",
      "Depth: 9,             mse: 1558.4327,             r2: -0.8703062706270628,             accuracy: 0.08909999999999996\n",
      "Depth: 11,             mse: 1532.9864,             r2: -0.8397676567656767,             accuracy: 0.0897\n",
      "Depth: 12,             mse: 1603.47,             r2: -0.9243564356435643,             accuracy: 0.08999999999999997\n",
      "Depth: 13,             mse: 1518.0706,             r2: -0.821866906690669,             accuracy: 0.09009999999999996\n",
      "Depth: 14,             mse: 1503.1365,             r2: -0.8039441944194419,             accuracy: 0.09150000000000003\n",
      "Depth: 15,             mse: 1491.8859,             r2: -0.7904421242124213,             accuracy: 0.09030000000000005\n",
      "Depth: 16,             mse: 1490.3471,             r2: -0.7885953795379539,             accuracy: 0.09140000000000004\n",
      "Depth: 18,             mse: 1553.9931,             r2: -0.8649782178217822,             accuracy: 0.08999999999999997\n",
      "Depth: 17,             mse: 1540.6391,             r2: -0.8489518151815181,             accuracy: 0.08830000000000005\n",
      "Depth: 19,             mse: 1559.4003,             r2: -0.871467506750675,             accuracy: 0.08699999999999997\n",
      "Depth: 20,             mse: 1562.265,             r2: -0.874905490549055,             accuracy: 0.08679999999999999\n",
      "Depth: 21,             mse: 1567.8083,             r2: -0.8815581158115811,             accuracy: 0.08650000000000002\n",
      "Depth: 22,             mse: 1579.6299,             r2: -0.8957454545454546,             accuracy: 0.08589999999999998\n",
      "Depth: 23,             mse: 1596.3588,             r2: -0.9158221422142214,             accuracy: 0.08640000000000003\n",
      "Depth: 25,             mse: 1574.532,             r2: -0.8896273627362736,             accuracy: 0.08750000000000002\n",
      "Depth: 24,             mse: 1610.8088,             r2: -0.9331638763876389,             accuracy: 0.08379999999999999\n"
     ]
    }
   ],
   "source": [
    "# Try a bunch of tree depths to see when overfitting starts\n",
    "depths = [x for x in range(1,55)]\n",
    "\n",
    "def train_tree(depth: int):\n",
    "    tree = DecisionTreeClassifier(max_depth=depth)\n",
    "    _ = tree.fit(X_train, y_train)\n",
    "    # compute metrics\n",
    "    y_pred = tree.predict(X_test)\n",
    "    print(f\"Depth: {depth}, \\\n",
    "            mse: {mean_squared_error(y_test, y_pred)}, \\\n",
    "            r2: {r2_score(y_test, y_pred)}, \\\n",
    "            accuracy: {1 - zero_one_loss(y_test, y_pred)}\")\n",
    "\n",
    "threads = []\n",
    "for i in depths:\n",
    "    threads.append(threading.Thread(target=train_tree, args=(i,)))\n",
    "    threads[len(threads) - 1].start()\n",
    "    # limit to 10 threads being used\n",
    "    # adjust to fit your computer\n",
    "    if len(threads) > 10:\n",
    "        threads[0].join()\n",
    "        threads.pop(0)\n",
    "for thread in threads:\n",
    "    thread.join()"
   ]
  },
  {
   "cell_type": "code",
   "execution_count": null,
   "metadata": {},
   "outputs": [
    {
     "name": "stdout",
     "output_type": "stream",
     "text": [
      "0.1717\n",
      "-0.652036090225564\n",
      "Accuracy: 0.17169999999999996\n"
     ]
    }
   ],
   "source": [
    "# Test decision tree\n",
    "print(\"Accuracy:\", tree.score(X_test, y_test))"
   ]
  },
  {
   "cell_type": "code",
   "execution_count": 5,
   "metadata": {},
   "outputs": [
    {
     "name": "stdout",
     "output_type": "stream",
     "text": [
      "R2 score: -0.538451127819549\n",
      "mse: 51.1535\n"
     ]
    }
   ],
   "source": [
    "# Test decision tree\n",
    "\n",
    "y_pred = tree.predict(X_test)\n",
    "\n",
    "r2 = r2_score(y_test, y_pred)\n",
    "print(\"R2 score:\", r2)\n",
    "mse = mean_squared_error(y_test, y_pred)\n",
    "print(f\"mse: {mse}\")"
   ]
  },
  {
   "cell_type": "code",
   "execution_count": null,
   "metadata": {},
   "outputs": [],
   "source": [
    "\"\"\"\n",
    "Random Forest\n",
    "\"\"\""
   ]
  },
  {
   "cell_type": "code",
   "execution_count": null,
   "metadata": {},
   "outputs": [],
   "source": [
    "\"\"\"\n",
    "AdaBoost and XGBoost\n",
    "\"\"\""
   ]
  }
 ],
 "metadata": {
  "kernelspec": {
   "display_name": ".venv",
   "language": "python",
   "name": "python3"
  },
  "language_info": {
   "codemirror_mode": {
    "name": "ipython",
    "version": 3
   },
   "file_extension": ".py",
   "mimetype": "text/x-python",
   "name": "python",
   "nbconvert_exporter": "python",
   "pygments_lexer": "ipython3",
   "version": "3.11.2"
  }
 },
 "nbformat": 4,
 "nbformat_minor": 2
}
