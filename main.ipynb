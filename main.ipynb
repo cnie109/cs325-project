{
 "cells": [
  {
   "cell_type": "code",
   "execution_count": 66,
   "metadata": {},
   "outputs": [],
   "source": [
    "\"\"\"\n",
    "Run once ever\n",
    "\n",
    "Downloads and extracts the dataset\n",
    "\"\"\"\n",
    "\n",
    "\n",
    "import urllib.request\n",
    "import tarfile\n",
    "import os\n",
    "\n",
    "mp3file = urllib.request.urlopen(\"https://www.cs.toronto.edu/~kriz/cifar-100-python.tar.gz\")\n",
    "with open('tmp','wb') as output:\n",
    "  output.write(mp3file.read())\n",
    "\n",
    "file = tarfile.open(\"tmp\")\n",
    "file.extractall(\".\")\n",
    "file.close()\n",
    "os.remove(\"tmp\")\n",
    "os.remove(\"cifar-100-python/file.txt~\")"
   ]
  },
  {
   "cell_type": "code",
   "execution_count": 2,
   "metadata": {},
   "outputs": [],
   "source": [
    "\"\"\"\n",
    "Imports\n",
    "\"\"\"\n",
    "\n",
    "import pandas as pd\n",
    "import matplotlib.pyplot as plt\n",
    "import threading\n",
    "from sklearn.preprocessing import StandardScaler\n",
    "from sklearn.neighbors import KNeighborsRegressor\n",
    "from sklearn.tree import DecisionTreeClassifier, plot_tree\n",
    "from sklearn.metrics import r2_score, mean_squared_error"
   ]
  },
  {
   "cell_type": "code",
   "execution_count": null,
   "metadata": {},
   "outputs": [],
   "source": [
    "\"\"\"\n",
    "load the dataset into memory\n",
    "\"\"\"\n",
    "\n",
    "# labels = \"coarse\"\n",
    "labels = \"fine\"\n",
    "\n",
    "# read in the training data\n",
    "tmp = pd.read_pickle(\"./cifar-100-python/train\")\n",
    "tmp.pop(\"batch_label\")\n",
    "tmp.pop(\"filenames\")\n",
    "d = tmp.pop(\"data\")\n",
    "\n",
    "data = pd.DataFrame.from_dict(tmp)\n",
    "d = pd.DataFrame(d)\n",
    "data = pd.concat([data, d], axis=1)\n",
    "\n",
    "X_train = data[(x for x in range(3072))]\n",
    "y_train = data[labels + \"_labels\"]\n",
    "\n",
    "\n",
    "# read in the testing data\n",
    "tmp = pd.read_pickle(\"./cifar-100-python/test\")\n",
    "tmp.pop(\"batch_label\")\n",
    "tmp.pop(\"filenames\")\n",
    "d = tmp.pop(\"data\")\n",
    "\n",
    "data = pd.DataFrame.from_dict(tmp)\n",
    "d = pd.DataFrame(d)\n",
    "data = pd.concat([data, d], axis=1)\n",
    "\n",
    "X_test = data[(x for x in range(3072))]\n",
    "y_test = data[labels + \"_labels\"]\n",
    "\n",
    "label_names = pd.read_pickle(\"./cifar-100-python/meta\")[labels + \"_label_names\"]"
   ]
  },
  {
   "cell_type": "code",
   "execution_count": null,
   "metadata": {},
   "outputs": [
    {
     "name": "stdout",
     "output_type": "stream",
     "text": [
      "Neighbors: 1, R2: -0.547445304530453\n",
      "Neighbors: 5, R2: -0.040033872187218655\n",
      "Neighbors: 10, R2: 0.01389046264626459\n",
      "Neighbors: 15, R2: 0.029376024002400247\n",
      "Neighbors: 25, R2: 0.04373827686768683\n",
      "Neighbors: 33, R2: 0.04497737024391146\n",
      "Neighbors: 50, R2: 0.04431375371137092\n"
     ]
    }
   ],
   "source": [
    "\"\"\"\n",
    "K-nearest\n",
    "\n",
    "Achieved slightly better than random (7% accuracy on coarse labels, 1.28% accuracy on fine labels)\n",
    "\"\"\"\n",
    "\n",
    "scalar = StandardScaler()\n",
    "\n",
    "X_train_scaled = scalar.fit_transform(X_train)\n",
    "X_test_scaled = scalar.fit_transform(X_test)\n",
    "\n",
    "# Train KNN\n",
    "\n",
    "neighbors_list = [1,5,10,15,25,33,50]\n",
    "# knn = KNeighborsRegressor(n_neighbors=150)\n",
    "# knn.fit(X_train_scaled, y_train)\n",
    "best_neighbors = 0\n",
    "best_r2 = 0\n",
    "for i in neighbors_list:\n",
    "    knn = KNeighborsRegressor(n_neighbors=i)\n",
    "    knn.fit(X_train_scaled, y_train)\n",
    "\n",
    "    y_pred = knn.predict(X_test_scaled)\n",
    "\n",
    "    r2 = r2_score(y_test, y_pred)\n",
    "    print(f\"Neighbors: {i}, R2: {r2}\")\n",
    "    if r2 > best_r2:\n",
    "        best_neighbors = i\n",
    "        best_r2 = r2"
   ]
  },
  {
   "cell_type": "code",
   "execution_count": 16,
   "metadata": {},
   "outputs": [
    {
     "name": "stdout",
     "output_type": "stream",
     "text": [
      "mse: 795.7726062442608\n",
      "Accuracy:  0.0128\n"
     ]
    }
   ],
   "source": [
    "# Test KNN\n",
    "\n",
    "knn = KNeighborsRegressor(n_neighbors=best_neighbors)\n",
    "knn.fit(X_train_scaled, y_train)\n",
    "\n",
    "y_pred = knn.predict(X_test_scaled)\n",
    "\n",
    "# r2 = r2_score(y_test, y_pred)\n",
    "# print(\"R2 score:\", r2)\n",
    "mse = mean_squared_error(y_test, y_pred)\n",
    "print(f\"mse: {mse}\")\n",
    "y_pred = y_pred.round()\n",
    "\n",
    "correct = 0\n",
    "for i in range(len(y_pred)):\n",
    "    if(y_pred[i] == y_test[i]):\n",
    "        correct += 1\n",
    "print(\"Accuracy: \", correct/len(y_pred))\n",
    "\n",
    "# print(y_pred)"
   ]
  },
  {
   "cell_type": "code",
   "execution_count": null,
   "metadata": {},
   "outputs": [],
   "source": [
    "\"\"\"\n",
    "Logistic Regression\n",
    "\"\"\""
   ]
  },
  {
   "cell_type": "code",
   "execution_count": null,
   "metadata": {},
   "outputs": [
    {
     "name": "stdout",
     "output_type": "stream",
     "text": [
      "Depth: 55\n"
     ]
    }
   ],
   "source": [
    "\"\"\"\n",
    "Basic Decision Tree\n",
    "\n",
    "Did much better than KNN\n",
    "achieving 16% accuracy with depth of 52 on coarse labels\n",
    "          16% accuracy with depth of 55 on fine labels\n",
    "\"\"\"\n",
    "\n",
    "tree = DecisionTreeClassifier()\n",
    "_ = tree.fit(X_train, y_train)\n",
    "print(f\"Depth: {tree.get_depth()}\")"
   ]
  },
  {
   "cell_type": "code",
   "execution_count": 14,
   "metadata": {},
   "outputs": [
    {
     "name": "stdout",
     "output_type": "stream",
     "text": [
      "0.1666\n",
      "-0.6849112781954887\n",
      "Accuracy:  0.1638\n"
     ]
    }
   ],
   "source": [
    "print(tree.score(X_test, y_test))\n",
    "print(r2_score(y_test, y_pred))\n",
    "\n",
    "correct = 0\n",
    "for i in range(len(y_pred)):\n",
    "    if(y_pred[i] == y_test[i]):\n",
    "        correct += 1\n",
    "print(\"Accuracy: \", correct/len(y_pred))"
   ]
  },
  {
   "cell_type": "code",
   "execution_count": 5,
   "metadata": {},
   "outputs": [
    {
     "name": "stdout",
     "output_type": "stream",
     "text": [
      "R2 score: -0.538451127819549\n",
      "mse: 51.1535\n"
     ]
    }
   ],
   "source": [
    "# Test decision tree\n",
    "\n",
    "y_pred = tree.predict(X_test)\n",
    "\n",
    "r2 = r2_score(y_test, y_pred)\n",
    "print(\"R2 score:\", r2)\n",
    "mse = mean_squared_error(y_test, y_pred)\n",
    "print(f\"mse: {mse}\")"
   ]
  },
  {
   "cell_type": "code",
   "execution_count": null,
   "metadata": {},
   "outputs": [],
   "source": [
    "\"\"\"\n",
    "Random Forest\n",
    "\"\"\""
   ]
  },
  {
   "cell_type": "code",
   "execution_count": null,
   "metadata": {},
   "outputs": [],
   "source": [
    "\"\"\"\n",
    "AdaBoost and XGBoost\n",
    "\"\"\""
   ]
  }
 ],
 "metadata": {
  "kernelspec": {
   "display_name": ".venv",
   "language": "python",
   "name": "python3"
  },
  "language_info": {
   "codemirror_mode": {
    "name": "ipython",
    "version": 3
   },
   "file_extension": ".py",
   "mimetype": "text/x-python",
   "name": "python",
   "nbconvert_exporter": "python",
   "pygments_lexer": "ipython3",
   "version": "3.11.2"
  }
 },
 "nbformat": 4,
 "nbformat_minor": 2
}
