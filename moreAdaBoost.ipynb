{
 "cells": [
  {
   "cell_type": "code",
   "execution_count": 1,
   "id": "600c6d01",
   "metadata": {},
   "outputs": [
    {
     "data": {
      "text/plain": [
       "\"\\n\\n\\nABSOLUTELY NOTHING THAT WAS DONE WITH ADABOOST WAS VALUABLE BECAUSE OF A FUCK UP THAT CAUSED THE TRAINING TO BE GARBAGE\\n\\nI'm leaving it all here just because I can\\n\\nI will not be commenting or cleaning up any of it\\n\\n\\n\\n\""
      ]
     },
     "execution_count": 1,
     "metadata": {},
     "output_type": "execute_result"
    }
   ],
   "source": [
    "\"\"\"\n",
    "\n",
    "\n",
    "ABSOLUTELY NOTHING THAT WAS DONE WITH ADABOOST WAS VALUABLE BECAUSE OF A FUCK UP THAT CAUSED THE TRAINING TO BE GARBAGE\n",
    "\n",
    "I'm leaving it all here just because I can\n",
    "\n",
    "I will not be commenting or cleaning up any of it\n",
    "\n",
    "\n",
    "\n",
    "\"\"\""
   ]
  },
  {
   "cell_type": "code",
   "execution_count": 2,
   "id": "56119528",
   "metadata": {},
   "outputs": [
    {
     "data": {
      "text/plain": [
       "'\\nRun once ever\\n\\nDownloads and extracts the dataset\\n'"
      ]
     },
     "execution_count": 2,
     "metadata": {},
     "output_type": "execute_result"
    }
   ],
   "source": [
    "\"\"\"\n",
    "Run once ever\n",
    "\n",
    "Downloads and extracts the dataset\n",
    "\"\"\"\n",
    "\n",
    "\n",
    "# import urllib.request\n",
    "# import tarfile\n",
    "# import os\n",
    "\n",
    "# mp3file = urllib.request.urlopen(\"https://www.cs.toronto.edu/~kriz/cifar-100-python.tar.gz\")\n",
    "# with open('tmp','wb') as output:\n",
    "#   output.write(mp3file.read())\n",
    "\n",
    "# file = tarfile.open(\"tmp\")\n",
    "# file.extractall(\".\")\n",
    "# file.close()\n",
    "# os.remove(\"tmp\")\n",
    "# os.remove(\"cifar-100-python/file.txt~\")"
   ]
  },
  {
   "cell_type": "code",
   "execution_count": 3,
   "id": "2634cd0d",
   "metadata": {
    "_cell_guid": "b1076dfc-b9ad-4769-8c92-a6c4dae69d19",
    "_uuid": "8f2839f25d086af736a60e9eeb907d3b93b6e0e5",
    "execution": {
     "iopub.execute_input": "2022-12-05T22:36:43.035205Z",
     "iopub.status.busy": "2022-12-05T22:36:43.034001Z",
     "iopub.status.idle": "2022-12-05T22:36:51.385205Z",
     "shell.execute_reply": "2022-12-05T22:36:51.383857Z"
    },
    "papermill": {
     "duration": 8.363453,
     "end_time": "2022-12-05T22:36:51.388522",
     "exception": false,
     "start_time": "2022-12-05T22:36:43.025069",
     "status": "completed"
    },
    "tags": []
   },
   "outputs": [],
   "source": [
    "\n",
    "import pickle\n",
    "import pandas as pd\n",
    "import numpy as np\n",
    "import matplotlib.pyplot as plt\n",
    "from pylab import rcParams\n",
    "%matplotlib inline\n",
    "import cv2\n",
    "from collections import Counter\n",
    "from sklearn.metrics import confusion_matrix, zero_one_loss\n",
    "import seaborn as sns\n",
    "from sklearn.model_selection import GridSearchCV\n",
    "import threading\n",
    "import time\n",
    "from sklearn.ensemble import AdaBoostClassifier\n",
    "from sklearn.tree import DecisionTreeClassifier\n",
    "# Input data files are available in the read-only \"../input/\" directory\n",
    "# For example, running this (by clicking run or pressing Shift+Enter) will list all files under the input directory\n",
    "\n",
    "# import os\n",
    "# for dirname, _, filenames in os.walk('/kaggle/input'):\n",
    "#     for filename in filenames:\n",
    "#         print(os.path.join(dirname, filename))\n",
    "\n",
    "# You can write up to 20GB to the current directory (/kaggle/working/) that gets preserved as output when you create a version using \"Save & Run All\" \n",
    "# You can also write temporary files to /kaggle/temp/, but they won't be saved outside of the current session"
   ]
  },
  {
   "cell_type": "code",
   "execution_count": 4,
   "id": "9a02b201",
   "metadata": {
    "execution": {
     "iopub.execute_input": "2022-12-05T22:36:51.403352Z",
     "iopub.status.busy": "2022-12-05T22:36:51.402523Z",
     "iopub.status.idle": "2022-12-05T22:36:51.409344Z",
     "shell.execute_reply": "2022-12-05T22:36:51.407987Z"
    },
    "papermill": {
     "duration": 0.01862,
     "end_time": "2022-12-05T22:36:51.413400",
     "exception": false,
     "start_time": "2022-12-05T22:36:51.394780",
     "status": "completed"
    },
    "tags": []
   },
   "outputs": [],
   "source": [
    "#function to read files present in the Python version of the dataset\n",
    "def unpickle(file):\n",
    "    with open(file, 'rb') as fo:\n",
    "        myDict = pickle.load(fo, encoding='latin1')\n",
    "    return myDict"
   ]
  },
  {
   "cell_type": "code",
   "execution_count": 5,
   "id": "294082a7",
   "metadata": {
    "execution": {
     "iopub.execute_input": "2022-12-05T22:36:51.428120Z",
     "iopub.status.busy": "2022-12-05T22:36:51.427156Z",
     "iopub.status.idle": "2022-12-05T22:36:54.758676Z",
     "shell.execute_reply": "2022-12-05T22:36:54.757443Z"
    },
    "papermill": {
     "duration": 3.341827,
     "end_time": "2022-12-05T22:36:54.761533",
     "exception": false,
     "start_time": "2022-12-05T22:36:51.419706",
     "status": "completed"
    },
    "tags": []
   },
   "outputs": [
    {
     "name": "stdout",
     "output_type": "stream",
     "text": [
      "filenames <class 'list'>\n",
      "batch_label <class 'str'>\n",
      "fine_labels <class 'list'>\n",
      "coarse_labels <class 'list'>\n",
      "data <class 'numpy.ndarray'>\n"
     ]
    }
   ],
   "source": [
    "trainData = unpickle('./cifar-100-python/train')\n",
    "#type of items in each file\n",
    "for item in trainData:\n",
    "    print(item, type(trainData[item]))"
   ]
  },
  {
   "cell_type": "code",
   "execution_count": 6,
   "id": "c9412666",
   "metadata": {
    "execution": {
     "iopub.execute_input": "2022-12-05T22:36:54.776765Z",
     "iopub.status.busy": "2022-12-05T22:36:54.775124Z",
     "iopub.status.idle": "2022-12-05T22:36:55.094446Z",
     "shell.execute_reply": "2022-12-05T22:36:55.092950Z"
    },
    "papermill": {
     "duration": 0.329562,
     "end_time": "2022-12-05T22:36:55.097345",
     "exception": false,
     "start_time": "2022-12-05T22:36:54.767783",
     "status": "completed"
    },
    "tags": []
   },
   "outputs": [
    {
     "name": "stdout",
     "output_type": "stream",
     "text": [
      "Fine labels: ['apple', 'aquarium_fish', 'baby', 'bear', 'beaver', 'bed', 'bee', 'beetle', 'bicycle', 'bottle', 'bowl', 'boy', 'bridge', 'bus', 'butterfly', 'camel', 'can', 'castle', 'caterpillar', 'cattle', 'chair', 'chimpanzee', 'clock', 'cloud', 'cockroach', 'couch', 'crab', 'crocodile', 'cup', 'dinosaur', 'dolphin', 'elephant', 'flatfish', 'forest', 'fox', 'girl', 'hamster', 'house', 'kangaroo', 'keyboard', 'lamp', 'lawn_mower', 'leopard', 'lion', 'lizard', 'lobster', 'man', 'maple_tree', 'motorcycle', 'mountain', 'mouse', 'mushroom', 'oak_tree', 'orange', 'orchid', 'otter', 'palm_tree', 'pear', 'pickup_truck', 'pine_tree', 'plain', 'plate', 'poppy', 'porcupine', 'possum', 'rabbit', 'raccoon', 'ray', 'road', 'rocket', 'rose', 'sea', 'seal', 'shark', 'shrew', 'skunk', 'skyscraper', 'snail', 'snake', 'spider', 'squirrel', 'streetcar', 'sunflower', 'sweet_pepper', 'table', 'tank', 'telephone', 'television', 'tiger', 'tractor', 'train', 'trout', 'tulip', 'turtle', 'wardrobe', 'whale', 'willow_tree', 'wolf', 'woman', 'worm'] \n",
      "\n",
      "Coarse labels: ['aquatic_mammals', 'fish', 'flowers', 'food_containers', 'fruit_and_vegetables', 'household_electrical_devices', 'household_furniture', 'insects', 'large_carnivores', 'large_man-made_outdoor_things', 'large_natural_outdoor_scenes', 'large_omnivores_and_herbivores', 'medium_mammals', 'non-insect_invertebrates', 'people', 'reptiles', 'small_mammals', 'trees', 'vehicles_1', 'vehicles_2']\n"
     ]
    }
   ],
   "source": [
    "testData = unpickle('./cifar-100-python//test')\n",
    "metaData = unpickle('./cifar-100-python//meta')\n",
    "#metaData\n",
    "print(\"Fine labels:\", metaData['fine_label_names'], \"\\n\")\n",
    "print(\"Coarse labels:\", metaData['coarse_label_names'])"
   ]
  },
  {
   "cell_type": "code",
   "execution_count": 7,
   "id": "09a11b7f",
   "metadata": {
    "execution": {
     "iopub.execute_input": "2022-12-05T22:36:55.112096Z",
     "iopub.status.busy": "2022-12-05T22:36:55.111644Z",
     "iopub.status.idle": "2022-12-05T22:36:55.135075Z",
     "shell.execute_reply": "2022-12-05T22:36:55.133571Z"
    },
    "papermill": {
     "duration": 0.034174,
     "end_time": "2022-12-05T22:36:55.137988",
     "exception": false,
     "start_time": "2022-12-05T22:36:55.103814",
     "status": "completed"
    },
    "tags": []
   },
   "outputs": [
    {
     "name": "stdout",
     "output_type": "stream",
     "text": [
      "         SubClass\n",
      "0           apple\n",
      "1   aquarium_fish\n",
      "2            baby\n",
      "3            bear\n",
      "4          beaver\n",
      "..            ...\n",
      "95          whale\n",
      "96    willow_tree\n",
      "97           wolf\n",
      "98          woman\n",
      "99           worm\n",
      "\n",
      "[100 rows x 1 columns]\n"
     ]
    }
   ],
   "source": [
    "#storing fine labels along with its number code in a dataframe\n",
    "subCategory = pd.DataFrame(metaData['fine_label_names'], columns=['SubClass'])\n",
    "print(subCategory)"
   ]
  },
  {
   "cell_type": "code",
   "execution_count": 8,
   "id": "5b975d0c",
   "metadata": {
    "execution": {
     "iopub.execute_input": "2022-12-05T22:36:55.152854Z",
     "iopub.status.busy": "2022-12-05T22:36:55.152064Z",
     "iopub.status.idle": "2022-12-05T22:36:55.157934Z",
     "shell.execute_reply": "2022-12-05T22:36:55.157015Z"
    },
    "papermill": {
     "duration": 0.016292,
     "end_time": "2022-12-05T22:36:55.160644",
     "exception": false,
     "start_time": "2022-12-05T22:36:55.144352",
     "status": "completed"
    },
    "tags": []
   },
   "outputs": [],
   "source": [
    "# I'm pretty sure this is set up so that dimension 0 is the category\n",
    "X_train = trainData['data']\n",
    "X_train = X_train.reshape(len(X_train),3,32,32).transpose(0,2,3,1)"
   ]
  },
  {
   "cell_type": "code",
   "execution_count": 9,
   "id": "a3b43585",
   "metadata": {
    "execution": {
     "iopub.execute_input": "2022-12-05T22:36:55.176063Z",
     "iopub.status.busy": "2022-12-05T22:36:55.175183Z",
     "iopub.status.idle": "2022-12-05T22:36:55.181052Z",
     "shell.execute_reply": "2022-12-05T22:36:55.180139Z"
    },
    "papermill": {
     "duration": 0.016486,
     "end_time": "2022-12-05T22:36:55.183794",
     "exception": false,
     "start_time": "2022-12-05T22:36:55.167308",
     "status": "completed"
    },
    "tags": []
   },
   "outputs": [],
   "source": [
    "X_test = testData['data']\n",
    "X_test = X_test.reshape(len(X_test),3,32,32).transpose(0,2,3,1)\n",
    "#X_test"
   ]
  },
  {
   "cell_type": "code",
   "execution_count": 10,
   "id": "ca500110",
   "metadata": {
    "execution": {
     "iopub.execute_input": "2022-12-05T22:36:55.364228Z",
     "iopub.status.busy": "2022-12-05T22:36:55.362245Z",
     "iopub.status.idle": "2022-12-05T22:36:55.370018Z",
     "shell.execute_reply": "2022-12-05T22:36:55.369133Z"
    },
    "papermill": {
     "duration": 0.028447,
     "end_time": "2022-12-05T22:36:55.372377",
     "exception": false,
     "start_time": "2022-12-05T22:36:55.343930",
     "status": "completed"
    },
    "tags": []
   },
   "outputs": [],
   "source": [
    "winSize = (32,32)\n",
    "blockSize = (8,8)\n",
    "blockStride = (4,4)\n",
    "cellSize = (2, 2)\n",
    "nbins = 12\n",
    "\n",
    "\n",
    "df = []"
   ]
  },
  {
   "cell_type": "markdown",
   "id": "a67ad2be",
   "metadata": {
    "papermill": {
     "duration": 0.006098,
     "end_time": "2022-12-05T22:36:55.385268",
     "exception": false,
     "start_time": "2022-12-05T22:36:55.379170",
     "status": "completed"
    },
    "tags": []
   },
   "source": [
    "**Create Database of HOGs** \n",
    "(Pandas dataframe)"
   ]
  },
  {
   "cell_type": "code",
   "execution_count": 11,
   "id": "fb3cec24",
   "metadata": {
    "execution": {
     "iopub.execute_input": "2022-12-05T22:36:55.400842Z",
     "iopub.status.busy": "2022-12-05T22:36:55.399532Z",
     "iopub.status.idle": "2022-12-05T22:37:00.121244Z",
     "shell.execute_reply": "2022-12-05T22:37:00.119975Z"
    },
    "papermill": {
     "duration": 4.732446,
     "end_time": "2022-12-05T22:37:00.124314",
     "exception": false,
     "start_time": "2022-12-05T22:36:55.391868",
     "status": "completed"
    },
    "tags": []
   },
   "outputs": [],
   "source": [
    "# this is essentially where we fit the model\n",
    "DF = []\n",
    "for i in range(len(X_train)):\n",
    "# for i in range(5000):\n",
    "    image = cv2.cvtColor(X_train[i], cv2.COLOR_BGR2GRAY)\n",
    "    hog = cv2.HOGDescriptor(winSize, blockSize, blockStride, cellSize, nbins)\n",
    "    df.append(hog.compute(image))\n",
    "DF = np.array(df)\n",
    "df = []\n",
    "for i in range(len(X_test)):\n",
    "    image = cv2.cvtColor(X_test[i], cv2.COLOR_BGR2GRAY)\n",
    "    hog = cv2.HOGDescriptor(winSize, blockSize, blockStride, cellSize, nbins)\n",
    "    df.append(hog.compute(image))\n",
    "DF_test = np.array(df)"
   ]
  },
  {
   "cell_type": "code",
   "execution_count": 12,
   "id": "514bd07d",
   "metadata": {
    "execution": {
     "iopub.execute_input": "2022-12-05T22:37:00.140031Z",
     "iopub.status.busy": "2022-12-05T22:37:00.139616Z",
     "iopub.status.idle": "2022-12-05T22:37:00.176194Z",
     "shell.execute_reply": "2022-12-05T22:37:00.174981Z"
    },
    "papermill": {
     "duration": 0.047191,
     "end_time": "2022-12-05T22:37:00.179019",
     "exception": false,
     "start_time": "2022-12-05T22:37:00.131828",
     "status": "completed"
    },
    "tags": []
   },
   "outputs": [
    {
     "data": {
      "text/plain": [
       "array([0.        , 0.        , 0.00412205, ..., 0.00682359, 0.0028279 ,\n",
       "       0.06439196], dtype=float32)"
      ]
     },
     "execution_count": 12,
     "metadata": {},
     "output_type": "execute_result"
    }
   ],
   "source": [
    "DF[0]"
   ]
  },
  {
   "cell_type": "markdown",
   "id": "465d65c5",
   "metadata": {
    "papermill": {
     "duration": 0.006739,
     "end_time": "2022-12-05T22:37:00.193374",
     "exception": false,
     "start_time": "2022-12-05T22:37:00.186635",
     "status": "completed"
    },
    "tags": []
   },
   "source": [
    "****continue work checkpoint: standardize test data and proceed****"
   ]
  },
  {
   "cell_type": "code",
   "execution_count": 13,
   "id": "dbdbf225",
   "metadata": {
    "execution": {
     "iopub.execute_input": "2022-12-05T22:37:00.210462Z",
     "iopub.status.busy": "2022-12-05T22:37:00.210011Z",
     "iopub.status.idle": "2022-12-05T22:37:00.219912Z",
     "shell.execute_reply": "2022-12-05T22:37:00.218503Z"
    },
    "papermill": {
     "duration": 0.021869,
     "end_time": "2022-12-05T22:37:00.222796",
     "exception": false,
     "start_time": "2022-12-05T22:37:00.200927",
     "status": "completed"
    },
    "tags": []
   },
   "outputs": [],
   "source": [
    "def predict(img, k, winSize, blockSize, blockStride, cellSize, nbins):\n",
    "    \n",
    "    #Extract sample's features\n",
    "    sample = cv2.cvtColor(img,cv2.COLOR_BGR2GRAY)\n",
    "    hog = cv2.HOGDescriptor(winSize, blockSize, blockStride, cellSize, nbins)\n",
    "    _hog = hog.compute(sample)\n",
    "    \n",
    "    #Get Nearest Neighbors\n",
    "    distances = []\n",
    "    for i in range(len(DF)):\n",
    "        distances.append(np.linalg.norm(_hog - DF[i]))         # 1- Calculate and store each datapoint's Euclidean distance\n",
    "    # distances = np.linalg.norm((np.expand_dims(_hog, axis=0) - DF))\n",
    "    \n",
    "    kNNsID = np.argsort(distances)[:k]                              # 2- Sort distances' IDs in an ascending order\n",
    "    \n",
    "    kNNsCats = []\n",
    "    for i in kNNsID:\n",
    "        kNNsCats.append(subCategory.iloc[trainData['fine_labels'][i]][0].capitalize())      # 3- Get categories of each of the NNs\n",
    "    \n",
    "    CommonCat = Counter(kNNsCats).most_common(1)                    # 4- Count and get Most common category\n",
    "    \n",
    "    return CommonCat"
   ]
  },
  {
   "cell_type": "code",
   "execution_count": 14,
   "id": "62a72650",
   "metadata": {
    "execution": {
     "iopub.execute_input": "2022-12-05T22:37:00.240362Z",
     "iopub.status.busy": "2022-12-05T22:37:00.239906Z",
     "iopub.status.idle": "2022-12-05T22:37:01.502388Z",
     "shell.execute_reply": "2022-12-05T22:37:01.501222Z"
    },
    "papermill": {
     "duration": 1.274702,
     "end_time": "2022-12-05T22:37:01.505182",
     "exception": false,
     "start_time": "2022-12-05T22:37:00.230480",
     "status": "completed"
    },
    "tags": []
   },
   "outputs": [
    {
     "name": "stderr",
     "output_type": "stream",
     "text": [
      "/tmp/ipykernel_24410/2374437631.py:18: FutureWarning: Series.__getitem__ treating keys as positions is deprecated. In a future version, integer keys will always be treated as labels (consistent with DataFrame behavior). To access a value by position, use `ser.iloc[pos]`\n",
      "  kNNsCats.append(subCategory.iloc[trainData['fine_labels'][i]][0].capitalize())      # 3- Get categories of each of the NNs\n"
     ]
    }
   ],
   "source": [
    "n = 25\n",
    "p = predict(X_test[n], 20, winSize, blockSize, blockStride, cellSize, nbins)"
   ]
  },
  {
   "cell_type": "code",
   "execution_count": 15,
   "id": "eec345b9",
   "metadata": {
    "execution": {
     "iopub.execute_input": "2022-12-05T22:37:01.521033Z",
     "iopub.status.busy": "2022-12-05T22:37:01.520613Z",
     "iopub.status.idle": "2022-12-05T22:37:01.527966Z",
     "shell.execute_reply": "2022-12-05T22:37:01.526857Z"
    },
    "papermill": {
     "duration": 0.018099,
     "end_time": "2022-12-05T22:37:01.530285",
     "exception": false,
     "start_time": "2022-12-05T22:37:01.512186",
     "status": "completed"
    },
    "tags": []
   },
   "outputs": [],
   "source": [
    "def getAccuracy(k, x_test, testdata):\n",
    "    RightCount = 0\n",
    "    preds = []\n",
    "    for i in range(1000):\n",
    "        pred = predict(x_test[i], k, winSize, blockSize, blockStride, cellSize, nbins)\n",
    "        if pred[0][0] == subCategory.iloc[testdata['fine_labels'][i]][0].capitalize():\n",
    "            RightCount += 1\n",
    "        preds.append(pred)\n",
    "        # print(\"Done: {}, Accuracy: {}, Time: {}\".format(i,(RightCount/(i+1))*100, time.time() % 10000), flush=True)\n",
    "    # it would be RightCount / 1000 * 100, so I just made it RightCount / 10\n",
    "    return RightCount / 10"
   ]
  },
  {
   "cell_type": "code",
   "execution_count": 16,
   "id": "2162e044",
   "metadata": {},
   "outputs": [
    {
     "name": "stdout",
     "output_type": "stream",
     "text": [
      "(50000, 12480)\n",
      "(10000, 12480)\n"
     ]
    }
   ],
   "source": [
    "y_train = trainData[\"fine_labels\"]\n",
    "y_test = testData[\"fine_labels\"]\n",
    "X_train = trainData[\"data\"]\n",
    "X_test = testData[\"data\"]\n",
    "\n",
    "# X_train = np.array(pd.concat([pd.DataFrame(X_train), DF], axis=1))\n",
    "# X_test = np.array(pd.concat([pd.DataFrame(X_test), DF_test], axis=1))\n",
    "X_train = np.concat([X_train, DF], axis=1)\n",
    "X_test = np.concat([X_test, DF_test], axis=1)\n",
    "\n",
    "print(X_train.shape)\n",
    "print(X_test.shape)"
   ]
  },
  {
   "cell_type": "code",
   "execution_count": null,
   "id": "40edeb6b",
   "metadata": {
    "execution": {
     "iopub.execute_input": "2022-12-05T22:37:01.546678Z",
     "iopub.status.busy": "2022-12-05T22:37:01.546173Z",
     "iopub.status.idle": "2022-12-05T22:58:03.115385Z",
     "shell.execute_reply": "2022-12-05T22:58:03.114403Z"
    },
    "papermill": {
     "duration": 1261.580274,
     "end_time": "2022-12-05T22:58:03.117685",
     "exception": false,
     "start_time": "2022-12-05T22:37:01.537411",
     "status": "completed"
    },
    "tags": []
   },
   "outputs": [],
   "source": [
    "\n",
    "# param_grid = {\n",
    "#     # \"nbins\": [5, 7, 9, 11, 13],\n",
    "#     \"nbins\": [13],\n",
    "#     # \"blockSize\": [(2, 2), (4,4), (8,8)],\n",
    "#     \"blockSize\": [(8,8)],\n",
    "#     \"blockStride\": [(1,1), (2,2), (4,4), (8,8)],\n",
    "#     \"cellSize\": [(1,1), (2,2), (4,4), (8,8)],\n",
    "#     \"k\": [4, 7, 10, 14, 18, 25],\n",
    "# }\n",
    "\n",
    "# param_grid = {\n",
    "#     \"nbins\": [10, 12],\n",
    "#     # \"blockSize\": [(2, 2), (4,4), (8,8)],\n",
    "#     \"blockSize\": [(8,8)],\n",
    "#     \"blockStride\": [(1,1), (4,4)],\n",
    "#     \"cellSize\": [(2,2)],\n",
    "#     \"k\": [18, 20, 22, 25, 27, 30, 50],\n",
    "# }\n",
    "\n",
    "# list of configs that performed well with just 5k samples, but now testing with all of the samples\n",
    "# param_grid = {\n",
    "#     \"nbins\": [9, 11, 12],\n",
    "#     \"blockSize\": [(8,8)],\n",
    "#     \"blockStride\": [(4,4)],\n",
    "#     \"cellSize\": [(2,2)],\n",
    "#     \"k\": [10, 14, 18, 22, 25, 27],\n",
    "#     # \"k\": [10],\n",
    "# }\n",
    "# adaBoost = AdaBoostClassifier(estimator=DecisionTreeClassifier(max_depth=2), n_estimators=1000)\n",
    "# adaBoost = AdaBoostClassifier()\n",
    "# adaBoost.fit(X_train, y_train)\n",
    "\n",
    "param_grid = {\n",
    "    # \"estimator\": [DecisionTreeClassifier(max_depth=1), DecisionTreeClassifier(max_depth=2), DecisionTreeClassifier(max_depth=3), DecisionTreeClassifier(max_depth=4)],\n",
    "    \"depths\": [1, 2, 3, 4],\n",
    "    # \"depths\": [1, 2],\n",
    "    # \"n_estimators\": [2500, 10000],\n",
    "    # \"n_estimators\": [250, 500, 1000, 2500]\n",
    "    \"n_estimators\": [10, 50, 100, 250, 500],\n",
    "}\n",
    "\n",
    "# print(X_train.shape)\n",
    "\n",
    "# model = AdaBoostClassifier()\n",
    "\n",
    "# 1103 minutes or 18 hours in, and only depth=2 was done, and depth=3 was ~half way through\n",
    "# grid_search = GridSearchCV(model, param_grid, cv=10, scoring=\"accuracy\", n_jobs=-1, verbose=2)\n",
    "# grid_search.fit(DF, y_train)\n",
    "\n",
    "# def train(d, n):\n",
    "#     model = AdaBoostClassifier(estimator=DecisionTreeClassifier(max_depth=d), n_estimators=n)\n",
    "#     model.fit(X_train, y_train)\n",
    "#     y_pred = model.predict(X_test)\n",
    "#     print(f\"Depth: {d}, n: {n} Accuracy: {1 - zero_one_loss(y_pred, y_test)}\")\n",
    "\n",
    "\n",
    "# threads = []\n",
    "# for d in param_grid['depths']:\n",
    "#     for n in param_grid['n_estimators']:\n",
    "#         threads.append(threading.Thread(target=train, args=(d,n,)))\n",
    "# for t in threads:\n",
    "#     t.start()\n",
    "# for t in threads:\n",
    "#     t.join()\n",
    "\n",
    "model = AdaBoostClassifier(estimator=DecisionTreeClassifier(max_depth=7), n_estimators=360)\n",
    "model.fit(X_train, y_train)\n",
    "y_pred = model.predict(X_test)\n",
    "print(f\"Depth: {7}, n: {360} Accuracy: {1 - zero_one_loss(y_pred, y_test)}\")\n",
    "\n",
    "\n"
   ]
  },
  {
   "cell_type": "code",
   "execution_count": null,
   "id": "4ac1d945",
   "metadata": {},
   "outputs": [],
   "source": [
    "# print(grid_search.cv_results_)\n",
    "# print(grid_search.best_params_)"
   ]
  },
  {
   "cell_type": "code",
   "execution_count": null,
   "id": "f33a7464",
   "metadata": {
    "execution": {
     "iopub.execute_input": "2022-12-05T22:58:03.255363Z",
     "iopub.status.busy": "2022-12-05T22:58:03.253532Z",
     "iopub.status.idle": "2022-12-05T22:58:03.328054Z",
     "shell.execute_reply": "2022-12-05T22:58:03.326424Z"
    },
    "papermill": {
     "duration": 0.146555,
     "end_time": "2022-12-05T22:58:03.330908",
     "exception": false,
     "start_time": "2022-12-05T22:58:03.184353",
     "status": "completed"
    },
    "tags": []
   },
   "outputs": [
    {
     "name": "stderr",
     "output_type": "stream",
     "text": [
      "/tmp/ipykernel_3124958/3796635586.py:4: FutureWarning: Series.__getitem__ treating keys as positions is deprecated. In a future version, integer keys will always be treated as labels (consistent with DataFrame behavior). To access a value by position, use `ser.iloc[pos]`\n",
      "  TruePreds.append(subCategory.iloc[testData['fine_labels'][i]][0].capitalize())\n"
     ]
    }
   ],
   "source": [
    "TruePreds = []\n",
    "\n",
    "for i in range(1000):\n",
    "    TruePreds.append(subCategory.iloc[testData['fine_labels'][i]][0].capitalize())"
   ]
  },
  {
   "cell_type": "code",
   "execution_count": null,
   "id": "14925919",
   "metadata": {
    "execution": {
     "iopub.execute_input": "2022-12-05T22:58:03.475960Z",
     "iopub.status.busy": "2022-12-05T22:58:03.475212Z",
     "iopub.status.idle": "2022-12-05T22:58:03.480728Z",
     "shell.execute_reply": "2022-12-05T22:58:03.479576Z"
    },
    "papermill": {
     "duration": 0.085121,
     "end_time": "2022-12-05T22:58:03.483477",
     "exception": false,
     "start_time": "2022-12-05T22:58:03.398356",
     "status": "completed"
    },
    "tags": []
   },
   "outputs": [],
   "source": [
    "# Predicted = []\n",
    "# for i in range(len(Preds14)):\n",
    "#     Predicted.append(Preds14[i][0][0])"
   ]
  },
  {
   "cell_type": "code",
   "execution_count": null,
   "id": "aa0efbc0",
   "metadata": {
    "execution": {
     "iopub.execute_input": "2022-12-05T22:58:03.619116Z",
     "iopub.status.busy": "2022-12-05T22:58:03.618550Z",
     "iopub.status.idle": "2022-12-05T22:58:03.630683Z",
     "shell.execute_reply": "2022-12-05T22:58:03.629447Z"
    },
    "papermill": {
     "duration": 0.083269,
     "end_time": "2022-12-05T22:58:03.633836",
     "exception": false,
     "start_time": "2022-12-05T22:58:03.550567",
     "status": "completed"
    },
    "tags": []
   },
   "outputs": [],
   "source": [
    "# cm = confusion_matrix(TruePreds, Predicted)"
   ]
  },
  {
   "cell_type": "code",
   "execution_count": null,
   "id": "05cf1307",
   "metadata": {
    "execution": {
     "iopub.execute_input": "2022-12-05T22:58:03.768143Z",
     "iopub.status.busy": "2022-12-05T22:58:03.767707Z",
     "iopub.status.idle": "2022-12-05T22:58:03.775658Z",
     "shell.execute_reply": "2022-12-05T22:58:03.774338Z"
    },
    "papermill": {
     "duration": 0.07769,
     "end_time": "2022-12-05T22:58:03.778111",
     "exception": false,
     "start_time": "2022-12-05T22:58:03.700421",
     "status": "completed"
    },
    "tags": []
   },
   "outputs": [],
   "source": [
    "# x = np.array(TruePreds)\n",
    "# len(np.unique(x))"
   ]
  },
  {
   "cell_type": "code",
   "execution_count": null,
   "id": "40403655",
   "metadata": {
    "execution": {
     "iopub.execute_input": "2022-12-05T22:58:03.914918Z",
     "iopub.status.busy": "2022-12-05T22:58:03.914111Z",
     "iopub.status.idle": "2022-12-05T22:58:03.921861Z",
     "shell.execute_reply": "2022-12-05T22:58:03.920647Z"
    },
    "papermill": {
     "duration": 0.079024,
     "end_time": "2022-12-05T22:58:03.924973",
     "exception": false,
     "start_time": "2022-12-05T22:58:03.845949",
     "status": "completed"
    },
    "tags": []
   },
   "outputs": [],
   "source": [
    "# cm_df = pd.DataFrame(cm,\n",
    "#                      index = np.unique(x), \n",
    "#                      columns = np.unique(x))"
   ]
  },
  {
   "cell_type": "code",
   "execution_count": null,
   "id": "72ed65b0",
   "metadata": {
    "execution": {
     "iopub.execute_input": "2022-12-05T22:58:04.067590Z",
     "iopub.status.busy": "2022-12-05T22:58:04.067060Z",
     "iopub.status.idle": "2022-12-05T22:58:34.985070Z",
     "shell.execute_reply": "2022-12-05T22:58:34.983788Z"
    },
    "papermill": {
     "duration": 31.068754,
     "end_time": "2022-12-05T22:58:35.063213",
     "exception": false,
     "start_time": "2022-12-05T22:58:03.994459",
     "status": "completed"
    },
    "tags": []
   },
   "outputs": [],
   "source": [
    "# plt.figure(figsize=(16,16))\n",
    "# sns.heatmap(cm_df, annot=True)\n",
    "# plt.title('Confusion Matrix')\n",
    "# plt.ylabel('Actal Values')\n",
    "# plt.xlabel('Predicted Values')\n",
    "# plt.show()"
   ]
  }
 ],
 "metadata": {
  "kernelspec": {
   "display_name": ".venv",
   "language": "python",
   "name": "python3"
  },
  "language_info": {
   "codemirror_mode": {
    "name": "ipython",
    "version": 3
   },
   "file_extension": ".py",
   "mimetype": "text/x-python",
   "name": "python",
   "nbconvert_exporter": "python",
   "pygments_lexer": "ipython3",
   "version": "3.11.2"
  },
  "papermill": {
   "default_parameters": {},
   "duration": 1324.995076,
   "end_time": "2022-12-05T22:58:38.304437",
   "environment_variables": {},
   "exception": null,
   "input_path": "__notebook__.ipynb",
   "output_path": "__notebook__.ipynb",
   "parameters": {},
   "start_time": "2022-12-05T22:36:33.309361",
   "version": "2.3.4"
  }
 },
 "nbformat": 4,
 "nbformat_minor": 5
}
