{
 "cells": [
  {
   "cell_type": "code",
   "execution_count": 1,
   "id": "56119528",
   "metadata": {},
   "outputs": [
    {
     "data": {
      "text/plain": [
       "'\\nRun once ever\\n\\nDownloads and extracts the dataset\\n'"
      ]
     },
     "execution_count": 1,
     "metadata": {},
     "output_type": "execute_result"
    }
   ],
   "source": [
    "\"\"\"\n",
    "Run once ever\n",
    "\n",
    "Downloads and extracts the dataset\n",
    "\"\"\"\n",
    "\n",
    "\n",
    "# import urllib.request\n",
    "# import tarfile\n",
    "# import os\n",
    "\n",
    "# mp3file = urllib.request.urlopen(\"https://www.cs.toronto.edu/~kriz/cifar-100-python.tar.gz\")\n",
    "# with open('tmp','wb') as output:\n",
    "#   output.write(mp3file.read())\n",
    "\n",
    "# file = tarfile.open(\"tmp\")\n",
    "# file.extractall(\".\")\n",
    "# file.close()\n",
    "# os.remove(\"tmp\")\n",
    "# os.remove(\"cifar-100-python/file.txt~\")"
   ]
  },
  {
   "cell_type": "code",
   "execution_count": 2,
   "id": "2634cd0d",
   "metadata": {
    "_cell_guid": "b1076dfc-b9ad-4769-8c92-a6c4dae69d19",
    "_uuid": "8f2839f25d086af736a60e9eeb907d3b93b6e0e5",
    "execution": {
     "iopub.execute_input": "2022-12-05T22:36:43.035205Z",
     "iopub.status.busy": "2022-12-05T22:36:43.034001Z",
     "iopub.status.idle": "2022-12-05T22:36:51.385205Z",
     "shell.execute_reply": "2022-12-05T22:36:51.383857Z"
    },
    "papermill": {
     "duration": 8.363453,
     "end_time": "2022-12-05T22:36:51.388522",
     "exception": false,
     "start_time": "2022-12-05T22:36:43.025069",
     "status": "completed"
    },
    "tags": []
   },
   "outputs": [],
   "source": [
    "\n",
    "import pickle\n",
    "import pandas as pd\n",
    "import numpy as np\n",
    "import matplotlib.pyplot as plt\n",
    "from pylab import rcParams\n",
    "%matplotlib inline\n",
    "import cv2\n",
    "from collections import Counter\n",
    "from sklearn.metrics import confusion_matrix\n",
    "import seaborn as sns\n",
    "from sklearn.model_selection import GridSearchCV\n",
    "import threading\n",
    "import time\n",
    "# Input data files are available in the read-only \"../input/\" directory\n",
    "# For example, running this (by clicking run or pressing Shift+Enter) will list all files under the input directory\n",
    "\n",
    "# import os\n",
    "# for dirname, _, filenames in os.walk('/kaggle/input'):\n",
    "#     for filename in filenames:\n",
    "#         print(os.path.join(dirname, filename))\n",
    "\n",
    "# You can write up to 20GB to the current directory (/kaggle/working/) that gets preserved as output when you create a version using \"Save & Run All\" \n",
    "# You can also write temporary files to /kaggle/temp/, but they won't be saved outside of the current session"
   ]
  },
  {
   "cell_type": "code",
   "execution_count": 3,
   "id": "9a02b201",
   "metadata": {
    "execution": {
     "iopub.execute_input": "2022-12-05T22:36:51.403352Z",
     "iopub.status.busy": "2022-12-05T22:36:51.402523Z",
     "iopub.status.idle": "2022-12-05T22:36:51.409344Z",
     "shell.execute_reply": "2022-12-05T22:36:51.407987Z"
    },
    "papermill": {
     "duration": 0.01862,
     "end_time": "2022-12-05T22:36:51.413400",
     "exception": false,
     "start_time": "2022-12-05T22:36:51.394780",
     "status": "completed"
    },
    "tags": []
   },
   "outputs": [],
   "source": [
    "#function to read files present in the Python version of the dataset\n",
    "def unpickle(file):\n",
    "    with open(file, 'rb') as fo:\n",
    "        myDict = pickle.load(fo, encoding='latin1')\n",
    "    return myDict"
   ]
  },
  {
   "cell_type": "code",
   "execution_count": 4,
   "id": "294082a7",
   "metadata": {
    "execution": {
     "iopub.execute_input": "2022-12-05T22:36:51.428120Z",
     "iopub.status.busy": "2022-12-05T22:36:51.427156Z",
     "iopub.status.idle": "2022-12-05T22:36:54.758676Z",
     "shell.execute_reply": "2022-12-05T22:36:54.757443Z"
    },
    "papermill": {
     "duration": 3.341827,
     "end_time": "2022-12-05T22:36:54.761533",
     "exception": false,
     "start_time": "2022-12-05T22:36:51.419706",
     "status": "completed"
    },
    "tags": []
   },
   "outputs": [
    {
     "name": "stdout",
     "output_type": "stream",
     "text": [
      "filenames <class 'list'>\n",
      "batch_label <class 'str'>\n",
      "fine_labels <class 'list'>\n",
      "coarse_labels <class 'list'>\n",
      "data <class 'numpy.ndarray'>\n"
     ]
    }
   ],
   "source": [
    "trainData = unpickle('./cifar-100-python/train')\n",
    "#type of items in each file\n",
    "for item in trainData:\n",
    "    print(item, type(trainData[item]))"
   ]
  },
  {
   "cell_type": "code",
   "execution_count": 5,
   "id": "c9412666",
   "metadata": {
    "execution": {
     "iopub.execute_input": "2022-12-05T22:36:54.776765Z",
     "iopub.status.busy": "2022-12-05T22:36:54.775124Z",
     "iopub.status.idle": "2022-12-05T22:36:55.094446Z",
     "shell.execute_reply": "2022-12-05T22:36:55.092950Z"
    },
    "papermill": {
     "duration": 0.329562,
     "end_time": "2022-12-05T22:36:55.097345",
     "exception": false,
     "start_time": "2022-12-05T22:36:54.767783",
     "status": "completed"
    },
    "tags": []
   },
   "outputs": [
    {
     "name": "stdout",
     "output_type": "stream",
     "text": [
      "Fine labels: ['apple', 'aquarium_fish', 'baby', 'bear', 'beaver', 'bed', 'bee', 'beetle', 'bicycle', 'bottle', 'bowl', 'boy', 'bridge', 'bus', 'butterfly', 'camel', 'can', 'castle', 'caterpillar', 'cattle', 'chair', 'chimpanzee', 'clock', 'cloud', 'cockroach', 'couch', 'crab', 'crocodile', 'cup', 'dinosaur', 'dolphin', 'elephant', 'flatfish', 'forest', 'fox', 'girl', 'hamster', 'house', 'kangaroo', 'keyboard', 'lamp', 'lawn_mower', 'leopard', 'lion', 'lizard', 'lobster', 'man', 'maple_tree', 'motorcycle', 'mountain', 'mouse', 'mushroom', 'oak_tree', 'orange', 'orchid', 'otter', 'palm_tree', 'pear', 'pickup_truck', 'pine_tree', 'plain', 'plate', 'poppy', 'porcupine', 'possum', 'rabbit', 'raccoon', 'ray', 'road', 'rocket', 'rose', 'sea', 'seal', 'shark', 'shrew', 'skunk', 'skyscraper', 'snail', 'snake', 'spider', 'squirrel', 'streetcar', 'sunflower', 'sweet_pepper', 'table', 'tank', 'telephone', 'television', 'tiger', 'tractor', 'train', 'trout', 'tulip', 'turtle', 'wardrobe', 'whale', 'willow_tree', 'wolf', 'woman', 'worm'] \n",
      "\n",
      "Coarse labels: ['aquatic_mammals', 'fish', 'flowers', 'food_containers', 'fruit_and_vegetables', 'household_electrical_devices', 'household_furniture', 'insects', 'large_carnivores', 'large_man-made_outdoor_things', 'large_natural_outdoor_scenes', 'large_omnivores_and_herbivores', 'medium_mammals', 'non-insect_invertebrates', 'people', 'reptiles', 'small_mammals', 'trees', 'vehicles_1', 'vehicles_2']\n"
     ]
    }
   ],
   "source": [
    "testData = unpickle('./cifar-100-python//test')\n",
    "metaData = unpickle('./cifar-100-python//meta')\n",
    "#metaData\n",
    "print(\"Fine labels:\", metaData['fine_label_names'], \"\\n\")\n",
    "print(\"Coarse labels:\", metaData['coarse_label_names'])"
   ]
  },
  {
   "cell_type": "code",
   "execution_count": 6,
   "id": "09a11b7f",
   "metadata": {
    "execution": {
     "iopub.execute_input": "2022-12-05T22:36:55.112096Z",
     "iopub.status.busy": "2022-12-05T22:36:55.111644Z",
     "iopub.status.idle": "2022-12-05T22:36:55.135075Z",
     "shell.execute_reply": "2022-12-05T22:36:55.133571Z"
    },
    "papermill": {
     "duration": 0.034174,
     "end_time": "2022-12-05T22:36:55.137988",
     "exception": false,
     "start_time": "2022-12-05T22:36:55.103814",
     "status": "completed"
    },
    "tags": []
   },
   "outputs": [
    {
     "name": "stdout",
     "output_type": "stream",
     "text": [
      "         SubClass\n",
      "0           apple\n",
      "1   aquarium_fish\n",
      "2            baby\n",
      "3            bear\n",
      "4          beaver\n",
      "..            ...\n",
      "95          whale\n",
      "96    willow_tree\n",
      "97           wolf\n",
      "98          woman\n",
      "99           worm\n",
      "\n",
      "[100 rows x 1 columns]\n"
     ]
    }
   ],
   "source": [
    "#storing fine labels along with its number code in a dataframe\n",
    "subCategory = pd.DataFrame(metaData['fine_label_names'], columns=['SubClass'])\n",
    "print(subCategory)"
   ]
  },
  {
   "cell_type": "code",
   "execution_count": 7,
   "id": "5b975d0c",
   "metadata": {
    "execution": {
     "iopub.execute_input": "2022-12-05T22:36:55.152854Z",
     "iopub.status.busy": "2022-12-05T22:36:55.152064Z",
     "iopub.status.idle": "2022-12-05T22:36:55.157934Z",
     "shell.execute_reply": "2022-12-05T22:36:55.157015Z"
    },
    "papermill": {
     "duration": 0.016292,
     "end_time": "2022-12-05T22:36:55.160644",
     "exception": false,
     "start_time": "2022-12-05T22:36:55.144352",
     "status": "completed"
    },
    "tags": []
   },
   "outputs": [],
   "source": [
    "# I'm pretty sure this is set up so that dimension 0 is the category\n",
    "X_train = trainData['data']\n",
    "X_train = X_train.reshape(len(X_train),3,32,32).transpose(0,2,3,1)"
   ]
  },
  {
   "cell_type": "code",
   "execution_count": 8,
   "id": "a3b43585",
   "metadata": {
    "execution": {
     "iopub.execute_input": "2022-12-05T22:36:55.176063Z",
     "iopub.status.busy": "2022-12-05T22:36:55.175183Z",
     "iopub.status.idle": "2022-12-05T22:36:55.181052Z",
     "shell.execute_reply": "2022-12-05T22:36:55.180139Z"
    },
    "papermill": {
     "duration": 0.016486,
     "end_time": "2022-12-05T22:36:55.183794",
     "exception": false,
     "start_time": "2022-12-05T22:36:55.167308",
     "status": "completed"
    },
    "tags": []
   },
   "outputs": [],
   "source": [
    "X_test = testData['data']\n",
    "X_test = X_test.reshape(len(X_test),3,32,32).transpose(0,2,3,1)\n",
    "#X_test"
   ]
  },
  {
   "cell_type": "code",
   "execution_count": 9,
   "id": "ca500110",
   "metadata": {
    "execution": {
     "iopub.execute_input": "2022-12-05T22:36:55.364228Z",
     "iopub.status.busy": "2022-12-05T22:36:55.362245Z",
     "iopub.status.idle": "2022-12-05T22:36:55.370018Z",
     "shell.execute_reply": "2022-12-05T22:36:55.369133Z"
    },
    "papermill": {
     "duration": 0.028447,
     "end_time": "2022-12-05T22:36:55.372377",
     "exception": false,
     "start_time": "2022-12-05T22:36:55.343930",
     "status": "completed"
    },
    "tags": []
   },
   "outputs": [],
   "source": [
    "winSize = (32,32)\n",
    "blockSize = (8,8)\n",
    "blockStride = (4,4)\n",
    "cellSize = (4,4)\n",
    "nbins = 9\n",
    "\n",
    "\n",
    "df = []"
   ]
  },
  {
   "cell_type": "markdown",
   "id": "a67ad2be",
   "metadata": {
    "papermill": {
     "duration": 0.006098,
     "end_time": "2022-12-05T22:36:55.385268",
     "exception": false,
     "start_time": "2022-12-05T22:36:55.379170",
     "status": "completed"
    },
    "tags": []
   },
   "source": [
    "**Create Database of HOGs** \n",
    "(Pandas dataframe)"
   ]
  },
  {
   "cell_type": "code",
   "execution_count": 10,
   "id": "fb3cec24",
   "metadata": {
    "execution": {
     "iopub.execute_input": "2022-12-05T22:36:55.400842Z",
     "iopub.status.busy": "2022-12-05T22:36:55.399532Z",
     "iopub.status.idle": "2022-12-05T22:37:00.121244Z",
     "shell.execute_reply": "2022-12-05T22:37:00.119975Z"
    },
    "papermill": {
     "duration": 4.732446,
     "end_time": "2022-12-05T22:37:00.124314",
     "exception": false,
     "start_time": "2022-12-05T22:36:55.391868",
     "status": "completed"
    },
    "tags": []
   },
   "outputs": [],
   "source": [
    "# this is essentially where we fit the model\n",
    "DF = []\n",
    "def getHogs(winSize, blockSize, blockStride, cellSize, nbins):\n",
    "    global DF\n",
    "    global df\n",
    "    df = []\n",
    "    for i in range(len(X_train)):\n",
    "    # for i in range(5000):\n",
    "        image = cv2.cvtColor(X_train[i], cv2.COLOR_BGR2GRAY)\n",
    "        hog = cv2.HOGDescriptor(winSize, blockSize, blockStride, cellSize, nbins)\n",
    "        df.append(hog.compute(image))\n",
    "    # DF = pd.DataFrame(df)\n",
    "    DF = np.array(df)\n"
   ]
  },
  {
   "cell_type": "code",
   "execution_count": 11,
   "id": "514bd07d",
   "metadata": {
    "execution": {
     "iopub.execute_input": "2022-12-05T22:37:00.140031Z",
     "iopub.status.busy": "2022-12-05T22:37:00.139616Z",
     "iopub.status.idle": "2022-12-05T22:37:00.176194Z",
     "shell.execute_reply": "2022-12-05T22:37:00.174981Z"
    },
    "papermill": {
     "duration": 0.047191,
     "end_time": "2022-12-05T22:37:00.179019",
     "exception": false,
     "start_time": "2022-12-05T22:37:00.131828",
     "status": "completed"
    },
    "tags": []
   },
   "outputs": [
    {
     "data": {
      "text/plain": [
       "array([0.03279916, 0.0153011 , 0.04578669, ..., 0.02589341, 0.15030332,\n",
       "       0.21390088], dtype=float32)"
      ]
     },
     "execution_count": 11,
     "metadata": {},
     "output_type": "execute_result"
    }
   ],
   "source": [
    "getHogs(winSize, blockSize, blockStride, cellSize, nbins)\n",
    "DF[0]"
   ]
  },
  {
   "cell_type": "markdown",
   "id": "465d65c5",
   "metadata": {
    "papermill": {
     "duration": 0.006739,
     "end_time": "2022-12-05T22:37:00.193374",
     "exception": false,
     "start_time": "2022-12-05T22:37:00.186635",
     "status": "completed"
    },
    "tags": []
   },
   "source": [
    "****continue work checkpoint: standardize test data and proceed****"
   ]
  },
  {
   "cell_type": "code",
   "execution_count": 12,
   "id": "dbdbf225",
   "metadata": {
    "execution": {
     "iopub.execute_input": "2022-12-05T22:37:00.210462Z",
     "iopub.status.busy": "2022-12-05T22:37:00.210011Z",
     "iopub.status.idle": "2022-12-05T22:37:00.219912Z",
     "shell.execute_reply": "2022-12-05T22:37:00.218503Z"
    },
    "papermill": {
     "duration": 0.021869,
     "end_time": "2022-12-05T22:37:00.222796",
     "exception": false,
     "start_time": "2022-12-05T22:37:00.200927",
     "status": "completed"
    },
    "tags": []
   },
   "outputs": [],
   "source": [
    "def predict(img, k, winSize, blockSize, blockStride, cellSize, nbins, DF):\n",
    "    \n",
    "    #Extract sample's features\n",
    "    sample = cv2.cvtColor(img,cv2.COLOR_BGR2GRAY)\n",
    "    hog = cv2.HOGDescriptor(winSize, blockSize, blockStride, cellSize, nbins)\n",
    "    _hog = hog.compute(sample)\n",
    "    \n",
    "    #Get Nearest Neighbors\n",
    "    distances = []\n",
    "    for i in range(len(DF)):\n",
    "        distances.append(np.linalg.norm(_hog - DF[i]))         # 1- Calculate and store each datapoint's Euclidean distance\n",
    "    # distances = np.linalg.norm((np.expand_dims(_hog, axis=0) - DF))\n",
    "    \n",
    "    kNNsID = np.argsort(distances)[:k]                              # 2- Sort distances' IDs in an ascending order\n",
    "    \n",
    "    kNNsCats = []\n",
    "    for i in kNNsID:\n",
    "        kNNsCats.append(subCategory.iloc[trainData['fine_labels'][i]][0].capitalize())      # 3- Get categories of each of the NNs\n",
    "    \n",
    "    CommonCat = Counter(kNNsCats).most_common(1)                    # 4- Count and get Most common category\n",
    "    \n",
    "    return CommonCat"
   ]
  },
  {
   "cell_type": "code",
   "execution_count": 13,
   "id": "62a72650",
   "metadata": {
    "execution": {
     "iopub.execute_input": "2022-12-05T22:37:00.240362Z",
     "iopub.status.busy": "2022-12-05T22:37:00.239906Z",
     "iopub.status.idle": "2022-12-05T22:37:01.502388Z",
     "shell.execute_reply": "2022-12-05T22:37:01.501222Z"
    },
    "papermill": {
     "duration": 1.274702,
     "end_time": "2022-12-05T22:37:01.505182",
     "exception": false,
     "start_time": "2022-12-05T22:37:00.230480",
     "status": "completed"
    },
    "tags": []
   },
   "outputs": [
    {
     "name": "stderr",
     "output_type": "stream",
     "text": [
      "/tmp/ipykernel_2348194/1813209976.py:18: FutureWarning: Series.__getitem__ treating keys as positions is deprecated. In a future version, integer keys will always be treated as labels (consistent with DataFrame behavior). To access a value by position, use `ser.iloc[pos]`\n",
      "  kNNsCats.append(subCategory.iloc[trainData['fine_labels'][i]][0].capitalize())      # 3- Get categories of each of the NNs\n"
     ]
    }
   ],
   "source": [
    "n = 25\n",
    "getHogs(winSize, blockSize, blockStride, cellSize, nbins)\n",
    "p = predict(X_test[n], 20, winSize, blockSize, blockStride, cellSize, nbins, DF)"
   ]
  },
  {
   "cell_type": "code",
   "execution_count": 14,
   "id": "eec345b9",
   "metadata": {
    "execution": {
     "iopub.execute_input": "2022-12-05T22:37:01.521033Z",
     "iopub.status.busy": "2022-12-05T22:37:01.520613Z",
     "iopub.status.idle": "2022-12-05T22:37:01.527966Z",
     "shell.execute_reply": "2022-12-05T22:37:01.526857Z"
    },
    "papermill": {
     "duration": 0.018099,
     "end_time": "2022-12-05T22:37:01.530285",
     "exception": false,
     "start_time": "2022-12-05T22:37:01.512186",
     "status": "completed"
    },
    "tags": []
   },
   "outputs": [],
   "source": [
    "def getAccuracy(k, x_test, testdata, winSize, blockSize, blockStride, cellSize, nbins, X_train):\n",
    "    df = []\n",
    "    for i in range(len(X_train)):\n",
    "    # for i in range(5000):\n",
    "        image = cv2.cvtColor(X_train[i], cv2.COLOR_BGR2GRAY)\n",
    "        hog = cv2.HOGDescriptor(winSize, blockSize, blockStride, cellSize, nbins)\n",
    "        df.append(hog.compute(image))\n",
    "    # DF = pd.DataFrame(df)\n",
    "    # DF = np.array(df)\n",
    "    df = np.array(df)\n",
    "    RightCount = 0\n",
    "    preds = []\n",
    "    for i in range(1000):\n",
    "        pred = predict(x_test[i], k, winSize, blockSize, blockStride, cellSize, nbins, df)\n",
    "        if pred[0][0] == subCategory.iloc[testdata['fine_labels'][i]][0].capitalize():\n",
    "            RightCount += 1\n",
    "        preds.append(pred)\n",
    "        # print(\"Done: {}, Accuracy: {}, Time: {}\".format(i,(RightCount/(i+1))*100, time.time() % 10000), flush=True)\n",
    "    # it would be RightCount / 1000 * 100, so I just made it RightCount / 10\n",
    "    return RightCount / 10"
   ]
  },
  {
   "cell_type": "code",
   "execution_count": 15,
   "id": "40edeb6b",
   "metadata": {
    "execution": {
     "iopub.execute_input": "2022-12-05T22:37:01.546678Z",
     "iopub.status.busy": "2022-12-05T22:37:01.546173Z",
     "iopub.status.idle": "2022-12-05T22:58:03.115385Z",
     "shell.execute_reply": "2022-12-05T22:58:03.114403Z"
    },
    "papermill": {
     "duration": 1261.580274,
     "end_time": "2022-12-05T22:58:03.117685",
     "exception": false,
     "start_time": "2022-12-05T22:37:01.537411",
     "status": "completed"
    },
    "tags": []
   },
   "outputs": [
    {
     "name": "stderr",
     "output_type": "stream",
     "text": [
      "/tmp/ipykernel_2348194/1813209976.py:18: FutureWarning: Series.__getitem__ treating keys as positions is deprecated. In a future version, integer keys will always be treated as labels (consistent with DataFrame behavior). To access a value by position, use `ser.iloc[pos]`\n",
      "  kNNsCats.append(subCategory.iloc[trainData['fine_labels'][i]][0].capitalize())      # 3- Get categories of each of the NNs\n",
      "/tmp/ipykernel_2348194/2059484418.py:15: FutureWarning: Series.__getitem__ treating keys as positions is deprecated. In a future version, integer keys will always be treated as labels (consistent with DataFrame behavior). To access a value by position, use `ser.iloc[pos]`\n",
      "  if pred[0][0] == subCategory.iloc[testdata['fine_labels'][i]][0].capitalize():\n"
     ]
    },
    {
     "name": "stdout",
     "output_type": "stream",
     "text": [
      "testing accuracy 9 | (8, 8) | (4, 4) | (2, 2) | 25 | 1745464386.3993187\n",
      "Accuracy: 21.2\n",
      "testing accuracy 9 | (8, 8) | (4, 4) | (2, 2) | 22 | 1745464398.143203\n",
      "Accuracy: 20.8\n",
      "testing accuracy 9 | (8, 8) | (4, 4) | (2, 2) | 14 | 1745464403.4008915\n",
      "Accuracy: 22.7\n",
      "testing accuracy 9 | (8, 8) | (4, 4) | (2, 2) | 10 | 1745464405.815524\n",
      "Accuracy: 23.6\n",
      "testing accuracy 9 | (8, 8) | (4, 4) | (2, 2) | 27 | 1745464407.281623\n",
      "Accuracy: 21.0\n",
      "testing accuracy 9 | (8, 8) | (4, 4) | (2, 2) | 18 | 1745464407.7817035\n",
      "Accuracy: 21.2\n",
      "testing accuracy 11 | (8, 8) | (4, 4) | (2, 2) | 27 | 1745466980.803638\n",
      "Accuracy: 20.7\n",
      "testing accuracy 11 | (8, 8) | (4, 4) | (2, 2) | 10 | 1745467007.8588314\n",
      "Accuracy: 24.0\n",
      "testing accuracy 11 | (8, 8) | (4, 4) | (2, 2) | 22 | 1745467027.4064965\n",
      "Accuracy: 21.3\n",
      "testing accuracy 11 | (8, 8) | (4, 4) | (2, 2) | 18 | 1745467034.359706\n",
      "Accuracy: 22.3\n",
      "testing accuracy 11 | (8, 8) | (4, 4) | (2, 2) | 25 | 1745467037.7091107\n",
      "Accuracy: 21.2\n",
      "testing accuracy 11 | (8, 8) | (4, 4) | (2, 2) | 14 | 1745467042.844484\n",
      "Accuracy: 22.6\n",
      "testing accuracy 12 | (8, 8) | (4, 4) | (2, 2) | 27 | 1745469691.5929058\n",
      "Accuracy: 21.2\n",
      "testing accuracy 12 | (8, 8) | (4, 4) | (2, 2) | 25 | 1745469711.2420282\n",
      "Accuracy: 21.9\n",
      "testing accuracy 12 | (8, 8) | (4, 4) | (2, 2) | 14 | 1745469753.5775397\n",
      "Accuracy: 23.2\n",
      "testing accuracy 12 | (8, 8) | (4, 4) | (2, 2) | 18 | 1745469755.4092672\n",
      "Accuracy: 22.2\n",
      "testing accuracy 12 | (8, 8) | (4, 4) | (2, 2) | 10 | 1745469762.3920875\n",
      "Accuracy: 24.6\n",
      "testing accuracy 12 | (8, 8) | (4, 4) | (2, 2) | 22 | 1745469763.9272377\n",
      "Accuracy: 21.8\n"
     ]
    }
   ],
   "source": [
    "\n",
    "# param_grid = {\n",
    "#     # \"nbins\": [5, 7, 9, 11, 13],\n",
    "#     \"nbins\": [13],\n",
    "#     # \"blockSize\": [(2, 2), (4,4), (8,8)],\n",
    "#     \"blockSize\": [(8,8)],\n",
    "#     \"blockStride\": [(1,1), (2,2), (4,4), (8,8)],\n",
    "#     \"cellSize\": [(1,1), (2,2), (4,4), (8,8)],\n",
    "#     \"k\": [4, 7, 10, 14, 18, 25],\n",
    "# }\n",
    "\n",
    "# param_grid = {\n",
    "#     \"nbins\": [10, 12],\n",
    "#     # \"blockSize\": [(2, 2), (4,4), (8,8)],\n",
    "#     \"blockSize\": [(8,8)],\n",
    "#     \"blockStride\": [(1,1), (4,4)],\n",
    "#     \"cellSize\": [(2,2)],\n",
    "#     \"k\": [18, 20, 22, 25, 27, 30, 50],\n",
    "# }\n",
    "\n",
    "# list of configs that performed well with just 5k samples, but now testing with all of the samples\n",
    "param_grid = {\n",
    "    \"nbins\": [9, 11, 12],\n",
    "    \"blockSize\": [(8,8)],\n",
    "    \"blockStride\": [(4,4)],\n",
    "    \"cellSize\": [(2,2)],\n",
    "    \"k\": [10, 14, 18, 22, 25, 27],\n",
    "    # \"k\": [10],\n",
    "}\n",
    "\n",
    "accuracies = []\n",
    "\n",
    "def addAccuacy(k, X_test, testData, winSize, bs, bls, c, n, DF):\n",
    "    # global accuracies\n",
    "    # print(f\"Starting {k}\")\n",
    "    # accuracies.append(getAccuracy(k, X_test, testData, winSize, bs, bls, c, n))\n",
    "    accuracy = getAccuracy(k, X_test, testData, winSize, bs, bls, c, n, DF)\n",
    "    accuracies.append(accuracy)\n",
    "    print(f\"testing accuracy {n} | {bs} | {bls} | {c} | {k} | {time.time()}\")\n",
    "    print(f\"Accuracy: {accuracy}\")\n",
    "\n",
    "threads = []\n",
    "\n",
    "for n in param_grid[\"nbins\"]:\n",
    "    for bs in param_grid[\"blockSize\"]:\n",
    "        for bls in param_grid[\"blockStride\"]:\n",
    "            for c in param_grid[\"cellSize\"]:\n",
    "                # check the two asserts that OpenCV has, and just move on if this configuration won't work\n",
    "                if not (bs[0] % c[0] == 0 and bs[0] % c[0] == 0):\n",
    "                    continue\n",
    "                if not ((winSize[0] - bs[0]) % bls[0] == 0 and (winSize[0] - bs[0]) % bls[0] == 0):\n",
    "                    continue\n",
    "                # getHogs(winSize, bs, bls, c, n)\n",
    "                # print(f\"got hogs at {round(time.time())}\")\n",
    "                # print(DF.shape)\n",
    "                threads = []\n",
    "                for k in param_grid[\"k\"]:\n",
    "                    # print(f\"testing accuracy {n} | {bs} | {bls} | {c} | {k}\")\n",
    "                    # accuracies.append(getAccuracy(k, X_test, testData, winSize, bs, bls, c, n))\n",
    "                    threads.append(threading.Thread(target=addAccuacy, args=(k, X_test, testData, winSize, bs, bls, c, n, X_train)))\n",
    "                    threads[len(threads)-1].start()\n",
    "                for thread in threads:\n",
    "                    thread.join()\n",
    "                    # print(f\"Accuracy: {accuracies[len(accuracies) - 1]}\")\n"
   ]
  },
  {
   "cell_type": "code",
   "execution_count": 16,
   "id": "4ac1d945",
   "metadata": {},
   "outputs": [
    {
     "name": "stdout",
     "output_type": "stream",
     "text": [
      "24.6\n"
     ]
    }
   ],
   "source": [
    "# print(accuracies)\n",
    "print(max(accuracies))"
   ]
  },
  {
   "cell_type": "code",
   "execution_count": 17,
   "id": "f33a7464",
   "metadata": {
    "execution": {
     "iopub.execute_input": "2022-12-05T22:58:03.255363Z",
     "iopub.status.busy": "2022-12-05T22:58:03.253532Z",
     "iopub.status.idle": "2022-12-05T22:58:03.328054Z",
     "shell.execute_reply": "2022-12-05T22:58:03.326424Z"
    },
    "papermill": {
     "duration": 0.146555,
     "end_time": "2022-12-05T22:58:03.330908",
     "exception": false,
     "start_time": "2022-12-05T22:58:03.184353",
     "status": "completed"
    },
    "tags": []
   },
   "outputs": [
    {
     "name": "stderr",
     "output_type": "stream",
     "text": [
      "/tmp/ipykernel_2348194/3796635586.py:4: FutureWarning: Series.__getitem__ treating keys as positions is deprecated. In a future version, integer keys will always be treated as labels (consistent with DataFrame behavior). To access a value by position, use `ser.iloc[pos]`\n",
      "  TruePreds.append(subCategory.iloc[testData['fine_labels'][i]][0].capitalize())\n"
     ]
    }
   ],
   "source": [
    "TruePreds = []\n",
    "\n",
    "for i in range(1000):\n",
    "    TruePreds.append(subCategory.iloc[testData['fine_labels'][i]][0].capitalize())"
   ]
  },
  {
   "cell_type": "code",
   "execution_count": 18,
   "id": "14925919",
   "metadata": {
    "execution": {
     "iopub.execute_input": "2022-12-05T22:58:03.475960Z",
     "iopub.status.busy": "2022-12-05T22:58:03.475212Z",
     "iopub.status.idle": "2022-12-05T22:58:03.480728Z",
     "shell.execute_reply": "2022-12-05T22:58:03.479576Z"
    },
    "papermill": {
     "duration": 0.085121,
     "end_time": "2022-12-05T22:58:03.483477",
     "exception": false,
     "start_time": "2022-12-05T22:58:03.398356",
     "status": "completed"
    },
    "tags": []
   },
   "outputs": [],
   "source": [
    "# Predicted = []\n",
    "# for i in range(len(Preds14)):\n",
    "#     Predicted.append(Preds14[i][0][0])"
   ]
  },
  {
   "cell_type": "code",
   "execution_count": 19,
   "id": "aa0efbc0",
   "metadata": {
    "execution": {
     "iopub.execute_input": "2022-12-05T22:58:03.619116Z",
     "iopub.status.busy": "2022-12-05T22:58:03.618550Z",
     "iopub.status.idle": "2022-12-05T22:58:03.630683Z",
     "shell.execute_reply": "2022-12-05T22:58:03.629447Z"
    },
    "papermill": {
     "duration": 0.083269,
     "end_time": "2022-12-05T22:58:03.633836",
     "exception": false,
     "start_time": "2022-12-05T22:58:03.550567",
     "status": "completed"
    },
    "tags": []
   },
   "outputs": [],
   "source": [
    "# cm = confusion_matrix(TruePreds, Predicted)"
   ]
  },
  {
   "cell_type": "code",
   "execution_count": 20,
   "id": "05cf1307",
   "metadata": {
    "execution": {
     "iopub.execute_input": "2022-12-05T22:58:03.768143Z",
     "iopub.status.busy": "2022-12-05T22:58:03.767707Z",
     "iopub.status.idle": "2022-12-05T22:58:03.775658Z",
     "shell.execute_reply": "2022-12-05T22:58:03.774338Z"
    },
    "papermill": {
     "duration": 0.07769,
     "end_time": "2022-12-05T22:58:03.778111",
     "exception": false,
     "start_time": "2022-12-05T22:58:03.700421",
     "status": "completed"
    },
    "tags": []
   },
   "outputs": [],
   "source": [
    "# x = np.array(TruePreds)\n",
    "# len(np.unique(x))"
   ]
  },
  {
   "cell_type": "code",
   "execution_count": 21,
   "id": "40403655",
   "metadata": {
    "execution": {
     "iopub.execute_input": "2022-12-05T22:58:03.914918Z",
     "iopub.status.busy": "2022-12-05T22:58:03.914111Z",
     "iopub.status.idle": "2022-12-05T22:58:03.921861Z",
     "shell.execute_reply": "2022-12-05T22:58:03.920647Z"
    },
    "papermill": {
     "duration": 0.079024,
     "end_time": "2022-12-05T22:58:03.924973",
     "exception": false,
     "start_time": "2022-12-05T22:58:03.845949",
     "status": "completed"
    },
    "tags": []
   },
   "outputs": [],
   "source": [
    "# cm_df = pd.DataFrame(cm,\n",
    "#                      index = np.unique(x), \n",
    "#                      columns = np.unique(x))"
   ]
  },
  {
   "cell_type": "code",
   "execution_count": 22,
   "id": "72ed65b0",
   "metadata": {
    "execution": {
     "iopub.execute_input": "2022-12-05T22:58:04.067590Z",
     "iopub.status.busy": "2022-12-05T22:58:04.067060Z",
     "iopub.status.idle": "2022-12-05T22:58:34.985070Z",
     "shell.execute_reply": "2022-12-05T22:58:34.983788Z"
    },
    "papermill": {
     "duration": 31.068754,
     "end_time": "2022-12-05T22:58:35.063213",
     "exception": false,
     "start_time": "2022-12-05T22:58:03.994459",
     "status": "completed"
    },
    "tags": []
   },
   "outputs": [],
   "source": [
    "# plt.figure(figsize=(16,16))\n",
    "# sns.heatmap(cm_df, annot=True)\n",
    "# plt.title('Confusion Matrix')\n",
    "# plt.ylabel('Actal Values')\n",
    "# plt.xlabel('Predicted Values')\n",
    "# plt.show()"
   ]
  }
 ],
 "metadata": {
  "kernelspec": {
   "display_name": ".venv",
   "language": "python",
   "name": "python3"
  },
  "language_info": {
   "codemirror_mode": {
    "name": "ipython",
    "version": 3
   },
   "file_extension": ".py",
   "mimetype": "text/x-python",
   "name": "python",
   "nbconvert_exporter": "python",
   "pygments_lexer": "ipython3",
   "version": "3.11.2"
  },
  "papermill": {
   "default_parameters": {},
   "duration": 1324.995076,
   "end_time": "2022-12-05T22:58:38.304437",
   "environment_variables": {},
   "exception": null,
   "input_path": "__notebook__.ipynb",
   "output_path": "__notebook__.ipynb",
   "parameters": {},
   "start_time": "2022-12-05T22:36:33.309361",
   "version": "2.3.4"
  }
 },
 "nbformat": 4,
 "nbformat_minor": 5
}
